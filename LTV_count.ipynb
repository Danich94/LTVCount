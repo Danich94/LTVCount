{
 "cells": [
  {
   "cell_type": "markdown",
   "metadata": {},
   "source": [
    "# Подсчет LTV (Lifetime value) пользователей."
   ]
  },
  {
   "cell_type": "markdown",
   "metadata": {},
   "source": [
    "## 1. Введение."
   ]
  },
  {
   "cell_type": "markdown",
   "metadata": {},
   "source": [
    "### Описание проекта."
   ]
  },
  {
   "cell_type": "markdown",
   "metadata": {},
   "source": [
    "В этом проекте мы будем решать задачу подсчета LTV (Lifetime Value) пользователей сервиса. \n",
    "LTV (Lifetime Value) – это прибыль, которую средний пользователь принесет за все время использования продукта.\n",
    "Метрика LTV является одной из ключевой метрик для принятия решений в маркетинге и продукте. \n",
    "Ориентируясь на метрику LTV, можно вычислить размер прибыли, которую приносит каждый покупатель за все время взаимодействия с сервисом.\n",
    "Следовательно, зная значение LTV, можно более точно сформировать маркетинговый и рекламный бюджет, указать адекватную стоимость привлечения клиента (CAC) и определить коэффициент возврата инвестиции (ROI), проанализировать повышение (или понижение) лояльности аудитории к продукту."
   ]
  },
  {
   "cell_type": "markdown",
   "metadata": {},
   "source": [
    "### Цель проекта"
   ]
  },
  {
   "cell_type": "markdown",
   "metadata": {},
   "source": [
    "Определение и анализ LTV(lifetime value) пользователей сервиса по имеющимся данным."
   ]
  },
  {
   "cell_type": "markdown",
   "metadata": {},
   "source": [
    "### Задача проекта"
   ]
  },
  {
   "cell_type": "markdown",
   "metadata": {},
   "source": [
    "На основании определенной цели поставим следующую задачу:\n",
    "- определить LTV пользователей сервиса с использованием когортного анализа."
   ]
  },
  {
   "cell_type": "markdown",
   "metadata": {},
   "source": [
    "### Описание данных"
   ]
  },
  {
   "cell_type": "markdown",
   "metadata": {},
   "source": [
    "Есть два набора данных: визиты пользователей на сервис (файл visits.csv) и данные по покупкам (файл purchases.csv). У каждого визита есть источник, а также устройство, с которого заходил пользователь.\n",
    "\n",
    "Описание столбцов в файлах с данными.\n",
    "\n",
    "Файл visits.csv\n",
    "\n",
    "- device — устройство,\n",
    "- end_ts — дата и время окончания визита,\n",
    "- source_id — id источника визита,\n",
    "- start_dt — дата старта визита,\n",
    "- start_ts — дата и время старта визита,\n",
    "- uid — идентификатор пользователя.\n",
    "\n",
    "Файл purchases.csv\n",
    "\n",
    "- buy_ts — дата и время покупки,\n",
    "- uid — идентификатор пользователя,\n",
    "- revenue — прибыль в y.e.\n"
   ]
  },
  {
   "cell_type": "markdown",
   "metadata": {},
   "source": [
    "### Дополнения и ограничения:\n",
    " - Подсчет метрики LTV необходимо производить на основе прибыли (contribution margin - разница между выручкой и всеми переменными затратами, которые напрямую ассоциированы с реализованной продукцией или услугой, но без учета маркетинговых расходов), а не дохода (revenue). В нашем случае имеется только столбец с данными revenue(доход) и какой либо дополнительной информации, отражающей переменные затраты на каждого пользователя нет. Поэтому для подсчета LTV (в учебных целях) мы сделаем грубое допущение о том, что в имеющихся данных указана уже посчитанная прибыль и все переменные затраты на пользователей вычтены из этого столбца."
   ]
  },
  {
   "cell_type": "markdown",
   "metadata": {},
   "source": [
    "## 2. Техническая часть."
   ]
  },
  {
   "cell_type": "markdown",
   "metadata": {},
   "source": [
    "#### Импортирование необходимых библиотек"
   ]
  },
  {
   "cell_type": "code",
   "execution_count": 1,
   "metadata": {},
   "outputs": [],
   "source": [
    "import pandas as pd\n",
    "import seaborn as sns\n",
    "import numpy as np\n",
    "import matplotlib.pyplot as plt\n",
    "%matplotlib inline\n",
    "# Настройки, необходимые для множественного вывода данных\n",
    "from IPython.core.interactiveshell import InteractiveShell\n",
    "InteractiveShell.ast_node_interactivity = 'all'"
   ]
  },
  {
   "cell_type": "markdown",
   "metadata": {},
   "source": [
    "### Чтение и очистка данных"
   ]
  },
  {
   "cell_type": "code",
   "execution_count": 2,
   "metadata": {
    "scrolled": true
   },
   "outputs": [
    {
     "data": {
      "text/html": [
       "<div>\n",
       "<style scoped>\n",
       "    .dataframe tbody tr th:only-of-type {\n",
       "        vertical-align: middle;\n",
       "    }\n",
       "\n",
       "    .dataframe tbody tr th {\n",
       "        vertical-align: top;\n",
       "    }\n",
       "\n",
       "    .dataframe thead th {\n",
       "        text-align: right;\n",
       "    }\n",
       "</style>\n",
       "<table border=\"1\" class=\"dataframe\">\n",
       "  <thead>\n",
       "    <tr style=\"text-align: right;\">\n",
       "      <th></th>\n",
       "      <th>device</th>\n",
       "      <th>end_ts</th>\n",
       "      <th>source_id</th>\n",
       "      <th>start_dt</th>\n",
       "      <th>start_ts</th>\n",
       "      <th>uid</th>\n",
       "    </tr>\n",
       "  </thead>\n",
       "  <tbody>\n",
       "    <tr>\n",
       "      <th>0</th>\n",
       "      <td>desktop</td>\n",
       "      <td>2016-11-30T11:04:17Z</td>\n",
       "      <td>2</td>\n",
       "      <td>2016-11-30</td>\n",
       "      <td>2016-11-30T10:53:49Z</td>\n",
       "      <td>3758486201</td>\n",
       "    </tr>\n",
       "    <tr>\n",
       "      <th>1</th>\n",
       "      <td>desktop</td>\n",
       "      <td>2016-11-10T23:16:57Z</td>\n",
       "      <td>4</td>\n",
       "      <td>2016-11-10</td>\n",
       "      <td>2016-11-10T23:08:04Z</td>\n",
       "      <td>2933941628</td>\n",
       "    </tr>\n",
       "    <tr>\n",
       "      <th>2</th>\n",
       "      <td>desktop</td>\n",
       "      <td>2016-10-19T18:51:56Z</td>\n",
       "      <td>1</td>\n",
       "      <td>2016-10-19</td>\n",
       "      <td>2016-10-19T18:48:16Z</td>\n",
       "      <td>1465872791</td>\n",
       "    </tr>\n",
       "    <tr>\n",
       "      <th>3</th>\n",
       "      <td>desktop</td>\n",
       "      <td>2017-01-12T20:51:55Z</td>\n",
       "      <td>9</td>\n",
       "      <td>2017-01-12</td>\n",
       "      <td>2017-01-12T20:50:10Z</td>\n",
       "      <td>2751875787</td>\n",
       "    </tr>\n",
       "    <tr>\n",
       "      <th>4</th>\n",
       "      <td>touch</td>\n",
       "      <td>2016-07-23T19:17:19Z</td>\n",
       "      <td>4</td>\n",
       "      <td>2016-07-23</td>\n",
       "      <td>2016-07-23T19:10:57Z</td>\n",
       "      <td>3492372810</td>\n",
       "    </tr>\n",
       "  </tbody>\n",
       "</table>\n",
       "</div>"
      ],
      "text/plain": [
       "    device                end_ts  source_id    start_dt              start_ts  \\\n",
       "0  desktop  2016-11-30T11:04:17Z          2  2016-11-30  2016-11-30T10:53:49Z   \n",
       "1  desktop  2016-11-10T23:16:57Z          4  2016-11-10  2016-11-10T23:08:04Z   \n",
       "2  desktop  2016-10-19T18:51:56Z          1  2016-10-19  2016-10-19T18:48:16Z   \n",
       "3  desktop  2017-01-12T20:51:55Z          9  2017-01-12  2017-01-12T20:50:10Z   \n",
       "4    touch  2016-07-23T19:17:19Z          4  2016-07-23  2016-07-23T19:10:57Z   \n",
       "\n",
       "          uid  \n",
       "0  3758486201  \n",
       "1  2933941628  \n",
       "2  1465872791  \n",
       "3  2751875787  \n",
       "4  3492372810  "
      ]
     },
     "execution_count": 2,
     "metadata": {},
     "output_type": "execute_result"
    },
    {
     "name": "stdout",
     "output_type": "stream",
     "text": [
      "<class 'pandas.core.frame.DataFrame'>\n",
      "RangeIndex: 720679 entries, 0 to 720678\n",
      "Data columns (total 6 columns):\n",
      " #   Column     Non-Null Count   Dtype \n",
      "---  ------     --------------   ----- \n",
      " 0   device     720679 non-null  object\n",
      " 1   end_ts     720679 non-null  object\n",
      " 2   source_id  720679 non-null  int64 \n",
      " 3   start_dt   720679 non-null  object\n",
      " 4   start_ts   720679 non-null  object\n",
      " 5   uid        720679 non-null  int64 \n",
      "dtypes: int64(2), object(4)\n",
      "memory usage: 33.0+ MB\n"
     ]
    },
    {
     "data": {
      "text/html": [
       "<div>\n",
       "<style scoped>\n",
       "    .dataframe tbody tr th:only-of-type {\n",
       "        vertical-align: middle;\n",
       "    }\n",
       "\n",
       "    .dataframe tbody tr th {\n",
       "        vertical-align: top;\n",
       "    }\n",
       "\n",
       "    .dataframe thead th {\n",
       "        text-align: right;\n",
       "    }\n",
       "</style>\n",
       "<table border=\"1\" class=\"dataframe\">\n",
       "  <thead>\n",
       "    <tr style=\"text-align: right;\">\n",
       "      <th></th>\n",
       "      <th>buy_ts</th>\n",
       "      <th>uid</th>\n",
       "      <th>revenue</th>\n",
       "    </tr>\n",
       "  </thead>\n",
       "  <tbody>\n",
       "    <tr>\n",
       "      <th>0</th>\n",
       "      <td>23.07.2016 19:13:54</td>\n",
       "      <td>3492372810</td>\n",
       "      <td>1,47</td>\n",
       "    </tr>\n",
       "    <tr>\n",
       "      <th>1</th>\n",
       "      <td>06.11.2016 02:48:27</td>\n",
       "      <td>1564753091</td>\n",
       "      <td>1,11</td>\n",
       "    </tr>\n",
       "    <tr>\n",
       "      <th>2</th>\n",
       "      <td>31.01.2017 20:32:42</td>\n",
       "      <td>1385616391</td>\n",
       "      <td>16,8</td>\n",
       "    </tr>\n",
       "    <tr>\n",
       "      <th>3</th>\n",
       "      <td>11.01.2017 10:52:11</td>\n",
       "      <td>2636761148</td>\n",
       "      <td>11</td>\n",
       "    </tr>\n",
       "    <tr>\n",
       "      <th>4</th>\n",
       "      <td>25.11.2016 18:57:09</td>\n",
       "      <td>2945629974</td>\n",
       "      <td>4,89</td>\n",
       "    </tr>\n",
       "  </tbody>\n",
       "</table>\n",
       "</div>"
      ],
      "text/plain": [
       "                buy_ts         uid revenue\n",
       "0  23.07.2016 19:13:54  3492372810    1,47\n",
       "1  06.11.2016 02:48:27  1564753091    1,11\n",
       "2  31.01.2017 20:32:42  1385616391    16,8\n",
       "3  11.01.2017 10:52:11  2636761148      11\n",
       "4  25.11.2016 18:57:09  2945629974    4,89"
      ]
     },
     "execution_count": 2,
     "metadata": {},
     "output_type": "execute_result"
    },
    {
     "name": "stdout",
     "output_type": "stream",
     "text": [
      "<class 'pandas.core.frame.DataFrame'>\n",
      "RangeIndex: 75716 entries, 0 to 75715\n",
      "Data columns (total 3 columns):\n",
      " #   Column   Non-Null Count  Dtype \n",
      "---  ------   --------------  ----- \n",
      " 0   buy_ts   75716 non-null  object\n",
      " 1   uid      75716 non-null  int64 \n",
      " 2   revenue  75716 non-null  object\n",
      "dtypes: int64(1), object(2)\n",
      "memory usage: 1.7+ MB\n"
     ]
    }
   ],
   "source": [
    "visits_data = pd.read_csv('visits.csv', sep='\\t')\n",
    "visits_data.head()\n",
    "visits_data.info()\n",
    "purchases_data = pd.read_csv('purchases.csv', sep='\\t')\n",
    "purchases_data.head()\n",
    "purchases_data.info()"
   ]
  },
  {
   "cell_type": "markdown",
   "metadata": {},
   "source": [
    "Проверим, имеются ли пропущенные значения в данных."
   ]
  },
  {
   "cell_type": "code",
   "execution_count": 3,
   "metadata": {
    "scrolled": true
   },
   "outputs": [
    {
     "data": {
      "text/plain": [
       "device       0\n",
       "end_ts       0\n",
       "source_id    0\n",
       "start_dt     0\n",
       "start_ts     0\n",
       "uid          0\n",
       "dtype: int64"
      ]
     },
     "execution_count": 3,
     "metadata": {},
     "output_type": "execute_result"
    },
    {
     "data": {
      "text/plain": [
       "buy_ts     0\n",
       "uid        0\n",
       "revenue    0\n",
       "dtype: int64"
      ]
     },
     "execution_count": 3,
     "metadata": {},
     "output_type": "execute_result"
    }
   ],
   "source": [
    "visits_data.isnull().sum()\n",
    "purchases_data.isnull().sum()"
   ]
  },
  {
   "cell_type": "markdown",
   "metadata": {},
   "source": [
    "Пропущенных значений в данных нет."
   ]
  },
  {
   "cell_type": "markdown",
   "metadata": {},
   "source": [
    "Проверим данные из столбца прибыль на наличие выбросов."
   ]
  },
  {
   "cell_type": "code",
   "execution_count": 4,
   "metadata": {},
   "outputs": [],
   "source": [
    "purchases_data['revenue'] = purchases_data['revenue'].apply(lambda x: x.replace(',','.'))"
   ]
  },
  {
   "cell_type": "code",
   "execution_count": 5,
   "metadata": {},
   "outputs": [
    {
     "data": {
      "text/plain": [
       "<matplotlib.axes._subplots.AxesSubplot at 0x80e6546488>"
      ]
     },
     "execution_count": 5,
     "metadata": {},
     "output_type": "execute_result"
    },
    {
     "name": "stdout",
     "output_type": "stream",
     "text": [
      "Maximum revenue value is: 99\n",
      "Minimum revenue value is: 0\n"
     ]
    },
    {
     "data": {
      "image/png": "[encoded data removed]",
      "text/plain": [
       "<Figure size 432x288 with 1 Axes>"
      ]
     },
     "metadata": {
      "needs_background": "light"
     },
     "output_type": "display_data"
    }
   ],
   "source": [
    "sns.distplot(purchases_data['revenue'].value_counts(), kde = False)\n",
    "print(f\"Maximum revenue value is: {purchases_data['revenue'].max()}\")\n",
    "print(f\"Minimum revenue value is: {purchases_data['revenue'].min()}\")"
   ]
  },
  {
   "cell_type": "code",
   "execution_count": 6,
   "metadata": {},
   "outputs": [
    {
     "data": {
      "text/plain": [
       "count     75716\n",
       "unique     1325\n",
       "top        1.83\n",
       "freq       3834\n",
       "Name: revenue, dtype: object"
      ]
     },
     "execution_count": 6,
     "metadata": {},
     "output_type": "execute_result"
    },
    {
     "data": {
      "text/plain": [
       "0         57\n",
       "0.01       1\n",
       "0.02       1\n",
       "0.03      62\n",
       "0.06     211\n",
       "        ... \n",
       "95.33      1\n",
       "97.53      1\n",
       "97.78     10\n",
       "98.08      1\n",
       "99         1\n",
       "Name: revenue, Length: 1325, dtype: int64"
      ]
     },
     "execution_count": 6,
     "metadata": {},
     "output_type": "execute_result"
    }
   ],
   "source": [
    "purchases_data['revenue'].describe()\n",
    "purchases_data['revenue'].value_counts().sort_index()"
   ]
  },
  {
   "cell_type": "markdown",
   "metadata": {},
   "source": [
    "На основании графика и проведенного анализа данных можно сделать вывод о том, что в данных по прибыли нет выбросов и аномальных значений. Все значения полученной прибыли от пользователей лежат в диапазоне от 0 до 99 у.е, причем большая часть платежей пользователей в сервисе составляют небольшие суммы."
   ]
  },
  {
   "cell_type": "markdown",
   "metadata": {},
   "source": [
    "### Разделение пользователей по когортам.\n",
    "В качестве когорт для удобства дальнейешего анализа и визуализации выберем ежемесячные когорты (начало пользования сервисом определенным пользователем в определенный месяц). \n",
    "\n",
    "В когорту N-го месяца попадут пользователи, впервые начавшие пользоваться сервисом в N-ый месяц.\n",
    "\n",
    "Таким образом на основании имеющихся у нас данных будет 12 различные когорт (с когорты 0 месяца  по когорту 12 месяца).\n",
    "\n",
    "Аналогичным образом возможно провести анализ дневных когорт пользователей (когортой N-го дня будут пользователи, начавшие пользоваться сервисом в N-ый день и всего количество когорот увеичится с 12 до 362 (по количеству дней имеющихся для анализа)).\n",
    "\n",
    "Проведение анализа дневных когорт имеет смысл, когда необходимо отследить изменение ключевых показателей бизнеса (LTV, конверсии, ROI, Retention Rate, САС) в условиях ограниченности времени или за малый временной промежуток, чтобы принять дальнейшее решение по развитию продукта (сервиса).\n",
    "\n",
    "В нашем случае для отслеживания общей динамики LTV при взаимодействии пользователей с сервисом будет достаточно использовать анализ ежемесячных когорт."
   ]
  },
  {
   "cell_type": "markdown",
   "metadata": {},
   "source": [
    "#### Преобразование данных"
   ]
  },
  {
   "cell_type": "markdown",
   "metadata": {},
   "source": [
    "Сделаем необходимые преобразования данных и объединим информацию о посещениях сервиса (файл visits.csv) с информацией о покупках на сервисе (файл purchases.csv)."
   ]
  },
  {
   "cell_type": "markdown",
   "metadata": {},
   "source": [
    "Преобразуем данные, содержащие даты в формат datetime."
   ]
  },
  {
   "cell_type": "code",
   "execution_count": 7,
   "metadata": {},
   "outputs": [],
   "source": [
    "visits_data['start_dt'] = pd.to_datetime(visits_data['start_dt'])\n",
    "purchases_data['buy_ts'] = pd.to_datetime(purchases_data['buy_ts'].apply(lambda x: x.split(' ')[0]))\n",
    "purchases_data['revenue'] = purchases_data['revenue'].apply(lambda x: float(x.replace(',', '.')))"
   ]
  },
  {
   "cell_type": "markdown",
   "metadata": {},
   "source": [
    "Зададим столбец дата входа в приложение(OrderPeriod) в формате Y-m для дальнейшей группировки когорт по месяцам."
   ]
  },
  {
   "cell_type": "code",
   "execution_count": 8,
   "metadata": {},
   "outputs": [],
   "source": [
    "visits_data['OrderPeriod'] = visits_data.start_dt.apply(lambda x: x.strftime('%Y-%m'))\n",
    "purchases_data['buy_ts'] = purchases_data['buy_ts'].apply(lambda x: x.strftime('%Y-%m'))\n",
    "purchases_data = purchases_data.rename(columns={'buy_ts': 'BuyPeriod'})"
   ]
  },
  {
   "cell_type": "code",
   "execution_count": 9,
   "metadata": {},
   "outputs": [
    {
     "data": {
      "text/html": [
       "<div>\n",
       "<style scoped>\n",
       "    .dataframe tbody tr th:only-of-type {\n",
       "        vertical-align: middle;\n",
       "    }\n",
       "\n",
       "    .dataframe tbody tr th {\n",
       "        vertical-align: top;\n",
       "    }\n",
       "\n",
       "    .dataframe thead th {\n",
       "        text-align: right;\n",
       "    }\n",
       "</style>\n",
       "<table border=\"1\" class=\"dataframe\">\n",
       "  <thead>\n",
       "    <tr style=\"text-align: right;\">\n",
       "      <th></th>\n",
       "      <th>uid</th>\n",
       "      <th>device</th>\n",
       "      <th>end_ts</th>\n",
       "      <th>source_id</th>\n",
       "      <th>start_dt</th>\n",
       "      <th>start_ts</th>\n",
       "      <th>OrderPeriod</th>\n",
       "      <th>CohortGroup</th>\n",
       "    </tr>\n",
       "  </thead>\n",
       "  <tbody>\n",
       "    <tr>\n",
       "      <th>0</th>\n",
       "      <td>3758486201</td>\n",
       "      <td>desktop</td>\n",
       "      <td>2016-11-30T11:04:17Z</td>\n",
       "      <td>2</td>\n",
       "      <td>2016-11-30</td>\n",
       "      <td>2016-11-30T10:53:49Z</td>\n",
       "      <td>2016-11</td>\n",
       "      <td>2016-11</td>\n",
       "    </tr>\n",
       "    <tr>\n",
       "      <th>1</th>\n",
       "      <td>2933941628</td>\n",
       "      <td>desktop</td>\n",
       "      <td>2016-11-10T23:16:57Z</td>\n",
       "      <td>4</td>\n",
       "      <td>2016-11-10</td>\n",
       "      <td>2016-11-10T23:08:04Z</td>\n",
       "      <td>2016-11</td>\n",
       "      <td>2016-11</td>\n",
       "    </tr>\n",
       "    <tr>\n",
       "      <th>2</th>\n",
       "      <td>1465872791</td>\n",
       "      <td>desktop</td>\n",
       "      <td>2016-10-19T18:51:56Z</td>\n",
       "      <td>1</td>\n",
       "      <td>2016-10-19</td>\n",
       "      <td>2016-10-19T18:48:16Z</td>\n",
       "      <td>2016-10</td>\n",
       "      <td>2016-10</td>\n",
       "    </tr>\n",
       "    <tr>\n",
       "      <th>3</th>\n",
       "      <td>2751875787</td>\n",
       "      <td>desktop</td>\n",
       "      <td>2017-01-12T20:51:55Z</td>\n",
       "      <td>9</td>\n",
       "      <td>2017-01-12</td>\n",
       "      <td>2017-01-12T20:50:10Z</td>\n",
       "      <td>2017-01</td>\n",
       "      <td>2016-07</td>\n",
       "    </tr>\n",
       "    <tr>\n",
       "      <th>4</th>\n",
       "      <td>3492372810</td>\n",
       "      <td>touch</td>\n",
       "      <td>2016-07-23T19:17:19Z</td>\n",
       "      <td>4</td>\n",
       "      <td>2016-07-23</td>\n",
       "      <td>2016-07-23T19:10:57Z</td>\n",
       "      <td>2016-07</td>\n",
       "      <td>2016-07</td>\n",
       "    </tr>\n",
       "  </tbody>\n",
       "</table>\n",
       "</div>"
      ],
      "text/plain": [
       "          uid   device                end_ts  source_id   start_dt  \\\n",
       "0  3758486201  desktop  2016-11-30T11:04:17Z          2 2016-11-30   \n",
       "1  2933941628  desktop  2016-11-10T23:16:57Z          4 2016-11-10   \n",
       "2  1465872791  desktop  2016-10-19T18:51:56Z          1 2016-10-19   \n",
       "3  2751875787  desktop  2017-01-12T20:51:55Z          9 2017-01-12   \n",
       "4  3492372810    touch  2016-07-23T19:17:19Z          4 2016-07-23   \n",
       "\n",
       "               start_ts OrderPeriod CohortGroup  \n",
       "0  2016-11-30T10:53:49Z     2016-11     2016-11  \n",
       "1  2016-11-10T23:08:04Z     2016-11     2016-11  \n",
       "2  2016-10-19T18:48:16Z     2016-10     2016-10  \n",
       "3  2017-01-12T20:50:10Z     2017-01     2016-07  \n",
       "4  2016-07-23T19:10:57Z     2016-07     2016-07  "
      ]
     },
     "execution_count": 9,
     "metadata": {},
     "output_type": "execute_result"
    }
   ],
   "source": [
    "visits_data = visits_data.set_index('uid')\n",
    "visits_data['CohortGroup'] = visits_data.groupby(level=0)['start_dt'].min().apply(lambda x: x.strftime('%Y-%m'))\n",
    "visits_data = visits_data.reset_index()\n",
    "visits_data.head()"
   ]
  },
  {
   "cell_type": "markdown",
   "metadata": {},
   "source": [
    "Объединим данные по идентификатору пользователя(uid) и дате входа в приложение(OrderPeriod)."
   ]
  },
  {
   "cell_type": "code",
   "execution_count": 10,
   "metadata": {},
   "outputs": [],
   "source": [
    "full_data = pd.merge(visits_data, purchases_data, how='left',left_on=['uid','OrderPeriod'], right_on=['uid', 'BuyPeriod'])"
   ]
  },
  {
   "cell_type": "code",
   "execution_count": 11,
   "metadata": {},
   "outputs": [
    {
     "data": {
      "text/html": [
       "<div>\n",
       "<style scoped>\n",
       "    .dataframe tbody tr th:only-of-type {\n",
       "        vertical-align: middle;\n",
       "    }\n",
       "\n",
       "    .dataframe tbody tr th {\n",
       "        vertical-align: top;\n",
       "    }\n",
       "\n",
       "    .dataframe thead th {\n",
       "        text-align: right;\n",
       "    }\n",
       "</style>\n",
       "<table border=\"1\" class=\"dataframe\">\n",
       "  <thead>\n",
       "    <tr style=\"text-align: right;\">\n",
       "      <th></th>\n",
       "      <th>uid</th>\n",
       "      <th>device</th>\n",
       "      <th>end_ts</th>\n",
       "      <th>source_id</th>\n",
       "      <th>start_dt</th>\n",
       "      <th>start_ts</th>\n",
       "      <th>OrderPeriod</th>\n",
       "      <th>CohortGroup</th>\n",
       "      <th>BuyPeriod</th>\n",
       "      <th>revenue</th>\n",
       "    </tr>\n",
       "  </thead>\n",
       "  <tbody>\n",
       "    <tr>\n",
       "      <th>0</th>\n",
       "      <td>3758486201</td>\n",
       "      <td>desktop</td>\n",
       "      <td>2016-11-30T11:04:17Z</td>\n",
       "      <td>2</td>\n",
       "      <td>2016-11-30</td>\n",
       "      <td>2016-11-30T10:53:49Z</td>\n",
       "      <td>2016-11</td>\n",
       "      <td>2016-11</td>\n",
       "      <td>NaN</td>\n",
       "      <td>0.00</td>\n",
       "    </tr>\n",
       "    <tr>\n",
       "      <th>1</th>\n",
       "      <td>2933941628</td>\n",
       "      <td>desktop</td>\n",
       "      <td>2016-11-10T23:16:57Z</td>\n",
       "      <td>4</td>\n",
       "      <td>2016-11-10</td>\n",
       "      <td>2016-11-10T23:08:04Z</td>\n",
       "      <td>2016-11</td>\n",
       "      <td>2016-11</td>\n",
       "      <td>NaN</td>\n",
       "      <td>0.00</td>\n",
       "    </tr>\n",
       "    <tr>\n",
       "      <th>2</th>\n",
       "      <td>1465872791</td>\n",
       "      <td>desktop</td>\n",
       "      <td>2016-10-19T18:51:56Z</td>\n",
       "      <td>1</td>\n",
       "      <td>2016-10-19</td>\n",
       "      <td>2016-10-19T18:48:16Z</td>\n",
       "      <td>2016-10</td>\n",
       "      <td>2016-10</td>\n",
       "      <td>NaN</td>\n",
       "      <td>0.00</td>\n",
       "    </tr>\n",
       "    <tr>\n",
       "      <th>3</th>\n",
       "      <td>2751875787</td>\n",
       "      <td>desktop</td>\n",
       "      <td>2017-01-12T20:51:55Z</td>\n",
       "      <td>9</td>\n",
       "      <td>2017-01-12</td>\n",
       "      <td>2017-01-12T20:50:10Z</td>\n",
       "      <td>2017-01</td>\n",
       "      <td>2016-07</td>\n",
       "      <td>NaN</td>\n",
       "      <td>0.00</td>\n",
       "    </tr>\n",
       "    <tr>\n",
       "      <th>4</th>\n",
       "      <td>3492372810</td>\n",
       "      <td>touch</td>\n",
       "      <td>2016-07-23T19:17:19Z</td>\n",
       "      <td>4</td>\n",
       "      <td>2016-07-23</td>\n",
       "      <td>2016-07-23T19:10:57Z</td>\n",
       "      <td>2016-07</td>\n",
       "      <td>2016-07</td>\n",
       "      <td>2016-07</td>\n",
       "      <td>1.47</td>\n",
       "    </tr>\n",
       "  </tbody>\n",
       "</table>\n",
       "</div>"
      ],
      "text/plain": [
       "          uid   device                end_ts  source_id   start_dt  \\\n",
       "0  3758486201  desktop  2016-11-30T11:04:17Z          2 2016-11-30   \n",
       "1  2933941628  desktop  2016-11-10T23:16:57Z          4 2016-11-10   \n",
       "2  1465872791  desktop  2016-10-19T18:51:56Z          1 2016-10-19   \n",
       "3  2751875787  desktop  2017-01-12T20:51:55Z          9 2017-01-12   \n",
       "4  3492372810    touch  2016-07-23T19:17:19Z          4 2016-07-23   \n",
       "\n",
       "               start_ts OrderPeriod CohortGroup BuyPeriod  revenue  \n",
       "0  2016-11-30T10:53:49Z     2016-11     2016-11       NaN     0.00  \n",
       "1  2016-11-10T23:08:04Z     2016-11     2016-11       NaN     0.00  \n",
       "2  2016-10-19T18:48:16Z     2016-10     2016-10       NaN     0.00  \n",
       "3  2017-01-12T20:50:10Z     2017-01     2016-07       NaN     0.00  \n",
       "4  2016-07-23T19:10:57Z     2016-07     2016-07   2016-07     1.47  "
      ]
     },
     "execution_count": 11,
     "metadata": {},
     "output_type": "execute_result"
    }
   ],
   "source": [
    "full_data = full_data.fillna(value={'revenue':0})\n",
    "full_data.head()"
   ]
  },
  {
   "cell_type": "markdown",
   "metadata": {},
   "source": [
    "Сгруппируем объединенные данные по когортам в динамике по месяцам и подсчитаем общее количество пользователей в каждой из когорт."
   ]
  },
  {
   "cell_type": "code",
   "execution_count": 12,
   "metadata": {},
   "outputs": [],
   "source": [
    "cohorts_data = full_data.groupby(['CohortGroup', 'OrderPeriod']).agg({'uid': pd.Series.nunique, 'revenue': np.sum})"
   ]
  },
  {
   "cell_type": "code",
   "execution_count": 13,
   "metadata": {},
   "outputs": [],
   "source": [
    "cohorts_data = cohorts_data.rename(columns={'uid':'TotalUsers', 'revenue': 'TotalSum'})"
   ]
  },
  {
   "cell_type": "markdown",
   "metadata": {},
   "source": [
    "Зададим когортный период для каждой из когорт."
   ]
  },
  {
   "cell_type": "code",
   "execution_count": 14,
   "metadata": {},
   "outputs": [],
   "source": [
    "def cohort_period(df):\n",
    "    df['CohortPeriod'] = np.arange(len(df)) + 1\n",
    "    return df\n",
    "\n",
    "cohorts_data = cohorts_data.groupby(level=0).apply(cohort_period)"
   ]
  },
  {
   "cell_type": "code",
   "execution_count": 15,
   "metadata": {},
   "outputs": [
    {
     "data": {
      "text/html": [
       "<div>\n",
       "<style scoped>\n",
       "    .dataframe tbody tr th:only-of-type {\n",
       "        vertical-align: middle;\n",
       "    }\n",
       "\n",
       "    .dataframe tbody tr th {\n",
       "        vertical-align: top;\n",
       "    }\n",
       "\n",
       "    .dataframe thead th {\n",
       "        text-align: right;\n",
       "    }\n",
       "</style>\n",
       "<table border=\"1\" class=\"dataframe\">\n",
       "  <thead>\n",
       "    <tr style=\"text-align: right;\">\n",
       "      <th></th>\n",
       "      <th></th>\n",
       "      <th>OrderPeriod</th>\n",
       "      <th>TotalUsers</th>\n",
       "      <th>TotalSum</th>\n",
       "    </tr>\n",
       "    <tr>\n",
       "      <th>CohortGroup</th>\n",
       "      <th>CohortPeriod</th>\n",
       "      <th></th>\n",
       "      <th></th>\n",
       "      <th></th>\n",
       "    </tr>\n",
       "  </thead>\n",
       "  <tbody>\n",
       "    <tr>\n",
       "      <th rowspan=\"12\" valign=\"top\">2016-06</th>\n",
       "      <th>1</th>\n",
       "      <td>2016-06</td>\n",
       "      <td>23926</td>\n",
       "      <td>85524.53</td>\n",
       "    </tr>\n",
       "    <tr>\n",
       "      <th>2</th>\n",
       "      <td>2016-07</td>\n",
       "      <td>2573</td>\n",
       "      <td>57405.00</td>\n",
       "    </tr>\n",
       "    <tr>\n",
       "      <th>3</th>\n",
       "      <td>2016-08</td>\n",
       "      <td>1677</td>\n",
       "      <td>58933.64</td>\n",
       "    </tr>\n",
       "    <tr>\n",
       "      <th>4</th>\n",
       "      <td>2016-09</td>\n",
       "      <td>2001</td>\n",
       "      <td>277628.12</td>\n",
       "    </tr>\n",
       "    <tr>\n",
       "      <th>5</th>\n",
       "      <td>2016-10</td>\n",
       "      <td>2282</td>\n",
       "      <td>263478.99</td>\n",
       "    </tr>\n",
       "    <tr>\n",
       "      <th>6</th>\n",
       "      <td>2016-11</td>\n",
       "      <td>2226</td>\n",
       "      <td>468153.66</td>\n",
       "    </tr>\n",
       "    <tr>\n",
       "      <th>7</th>\n",
       "      <td>2016-12</td>\n",
       "      <td>1929</td>\n",
       "      <td>319585.71</td>\n",
       "    </tr>\n",
       "    <tr>\n",
       "      <th>8</th>\n",
       "      <td>2017-01</td>\n",
       "      <td>1777</td>\n",
       "      <td>377915.00</td>\n",
       "    </tr>\n",
       "    <tr>\n",
       "      <th>9</th>\n",
       "      <td>2017-02</td>\n",
       "      <td>1717</td>\n",
       "      <td>510933.50</td>\n",
       "    </tr>\n",
       "    <tr>\n",
       "      <th>10</th>\n",
       "      <td>2017-03</td>\n",
       "      <td>1655</td>\n",
       "      <td>430956.03</td>\n",
       "    </tr>\n",
       "    <tr>\n",
       "      <th>11</th>\n",
       "      <td>2017-04</td>\n",
       "      <td>1290</td>\n",
       "      <td>203779.42</td>\n",
       "    </tr>\n",
       "    <tr>\n",
       "      <th>12</th>\n",
       "      <td>2017-05</td>\n",
       "      <td>1370</td>\n",
       "      <td>163144.44</td>\n",
       "    </tr>\n",
       "    <tr>\n",
       "      <th rowspan=\"3\" valign=\"top\">2016-07</th>\n",
       "      <th>1</th>\n",
       "      <td>2016-07</td>\n",
       "      <td>22779</td>\n",
       "      <td>29861.63</td>\n",
       "    </tr>\n",
       "    <tr>\n",
       "      <th>2</th>\n",
       "      <td>2016-08</td>\n",
       "      <td>1689</td>\n",
       "      <td>9615.19</td>\n",
       "    </tr>\n",
       "    <tr>\n",
       "      <th>3</th>\n",
       "      <td>2016-09</td>\n",
       "      <td>1545</td>\n",
       "      <td>10286.20</td>\n",
       "    </tr>\n",
       "  </tbody>\n",
       "</table>\n",
       "</div>"
      ],
      "text/plain": [
       "                         OrderPeriod  TotalUsers   TotalSum\n",
       "CohortGroup CohortPeriod                                   \n",
       "2016-06     1                2016-06       23926   85524.53\n",
       "            2                2016-07        2573   57405.00\n",
       "            3                2016-08        1677   58933.64\n",
       "            4                2016-09        2001  277628.12\n",
       "            5                2016-10        2282  263478.99\n",
       "            6                2016-11        2226  468153.66\n",
       "            7                2016-12        1929  319585.71\n",
       "            8                2017-01        1777  377915.00\n",
       "            9                2017-02        1717  510933.50\n",
       "            10               2017-03        1655  430956.03\n",
       "            11               2017-04        1290  203779.42\n",
       "            12               2017-05        1370  163144.44\n",
       "2016-07     1                2016-07       22779   29861.63\n",
       "            2                2016-08        1689    9615.19\n",
       "            3                2016-09        1545   10286.20"
      ]
     },
     "execution_count": 15,
     "metadata": {},
     "output_type": "execute_result"
    }
   ],
   "source": [
    "# reindex the DataFrame\n",
    "cohorts_data = cohorts_data.reset_index()\n",
    "cohorts_data = cohorts_data.set_index(['CohortGroup', 'CohortPeriod'])\n",
    "cohorts_data.head(15)"
   ]
  },
  {
   "cell_type": "markdown",
   "metadata": {},
   "source": [
    "### Анализ LTV пользователей по когортам."
   ]
  },
  {
   "cell_type": "markdown",
   "metadata": {},
   "source": [
    "#### Подсчет прибыли каждого пользователя из когорты в динамике по месяцам с момента регистрации"
   ]
  },
  {
   "cell_type": "code",
   "execution_count": 16,
   "metadata": {},
   "outputs": [],
   "source": [
    "user_data_cohorts = full_data.groupby(['CohortGroup','uid']).agg({'revenue':np.sum})\n",
    "user_data_cohorts = user_data_cohorts.rename(columns={'revenue':'TotalSum'})"
   ]
  },
  {
   "cell_type": "code",
   "execution_count": 17,
   "metadata": {},
   "outputs": [
    {
     "data": {
      "text/html": [
       "<div>\n",
       "<style scoped>\n",
       "    .dataframe tbody tr th:only-of-type {\n",
       "        vertical-align: middle;\n",
       "    }\n",
       "\n",
       "    .dataframe tbody tr th {\n",
       "        vertical-align: top;\n",
       "    }\n",
       "\n",
       "    .dataframe thead th {\n",
       "        text-align: right;\n",
       "    }\n",
       "</style>\n",
       "<table border=\"1\" class=\"dataframe\">\n",
       "  <thead>\n",
       "    <tr style=\"text-align: right;\">\n",
       "      <th>CohortGroup</th>\n",
       "      <th>2016-06</th>\n",
       "      <th>2016-07</th>\n",
       "      <th>2016-08</th>\n",
       "      <th>2016-09</th>\n",
       "      <th>2016-10</th>\n",
       "      <th>2016-11</th>\n",
       "      <th>2016-12</th>\n",
       "      <th>2017-01</th>\n",
       "      <th>2017-02</th>\n",
       "      <th>2017-03</th>\n",
       "      <th>2017-04</th>\n",
       "      <th>2017-05</th>\n",
       "    </tr>\n",
       "    <tr>\n",
       "      <th>uid</th>\n",
       "      <th></th>\n",
       "      <th></th>\n",
       "      <th></th>\n",
       "      <th></th>\n",
       "      <th></th>\n",
       "      <th></th>\n",
       "      <th></th>\n",
       "      <th></th>\n",
       "      <th></th>\n",
       "      <th></th>\n",
       "      <th></th>\n",
       "      <th></th>\n",
       "    </tr>\n",
       "  </thead>\n",
       "  <tbody>\n",
       "    <tr>\n",
       "      <th>4245</th>\n",
       "      <td>NaN</td>\n",
       "      <td>NaN</td>\n",
       "      <td>NaN</td>\n",
       "      <td>NaN</td>\n",
       "      <td>NaN</td>\n",
       "      <td>0.0</td>\n",
       "      <td>NaN</td>\n",
       "      <td>NaN</td>\n",
       "      <td>NaN</td>\n",
       "      <td>NaN</td>\n",
       "      <td>NaN</td>\n",
       "      <td>NaN</td>\n",
       "    </tr>\n",
       "    <tr>\n",
       "      <th>5097</th>\n",
       "      <td>NaN</td>\n",
       "      <td>NaN</td>\n",
       "      <td>NaN</td>\n",
       "      <td>NaN</td>\n",
       "      <td>NaN</td>\n",
       "      <td>NaN</td>\n",
       "      <td>NaN</td>\n",
       "      <td>NaN</td>\n",
       "      <td>0.0</td>\n",
       "      <td>NaN</td>\n",
       "      <td>NaN</td>\n",
       "      <td>NaN</td>\n",
       "    </tr>\n",
       "    <tr>\n",
       "      <th>8896</th>\n",
       "      <td>NaN</td>\n",
       "      <td>NaN</td>\n",
       "      <td>NaN</td>\n",
       "      <td>NaN</td>\n",
       "      <td>NaN</td>\n",
       "      <td>NaN</td>\n",
       "      <td>NaN</td>\n",
       "      <td>0.0</td>\n",
       "      <td>NaN</td>\n",
       "      <td>NaN</td>\n",
       "      <td>NaN</td>\n",
       "      <td>NaN</td>\n",
       "    </tr>\n",
       "    <tr>\n",
       "      <th>21017</th>\n",
       "      <td>0.0</td>\n",
       "      <td>NaN</td>\n",
       "      <td>NaN</td>\n",
       "      <td>NaN</td>\n",
       "      <td>NaN</td>\n",
       "      <td>NaN</td>\n",
       "      <td>NaN</td>\n",
       "      <td>NaN</td>\n",
       "      <td>NaN</td>\n",
       "      <td>NaN</td>\n",
       "      <td>NaN</td>\n",
       "      <td>NaN</td>\n",
       "    </tr>\n",
       "    <tr>\n",
       "      <th>30696</th>\n",
       "      <td>NaN</td>\n",
       "      <td>NaN</td>\n",
       "      <td>NaN</td>\n",
       "      <td>NaN</td>\n",
       "      <td>NaN</td>\n",
       "      <td>0.0</td>\n",
       "      <td>NaN</td>\n",
       "      <td>NaN</td>\n",
       "      <td>NaN</td>\n",
       "      <td>NaN</td>\n",
       "      <td>NaN</td>\n",
       "      <td>NaN</td>\n",
       "    </tr>\n",
       "    <tr>\n",
       "      <th>56661</th>\n",
       "      <td>0.0</td>\n",
       "      <td>NaN</td>\n",
       "      <td>NaN</td>\n",
       "      <td>NaN</td>\n",
       "      <td>NaN</td>\n",
       "      <td>NaN</td>\n",
       "      <td>NaN</td>\n",
       "      <td>NaN</td>\n",
       "      <td>NaN</td>\n",
       "      <td>NaN</td>\n",
       "      <td>NaN</td>\n",
       "      <td>NaN</td>\n",
       "    </tr>\n",
       "    <tr>\n",
       "      <th>66255</th>\n",
       "      <td>NaN</td>\n",
       "      <td>NaN</td>\n",
       "      <td>NaN</td>\n",
       "      <td>0.0</td>\n",
       "      <td>NaN</td>\n",
       "      <td>NaN</td>\n",
       "      <td>NaN</td>\n",
       "      <td>NaN</td>\n",
       "      <td>NaN</td>\n",
       "      <td>NaN</td>\n",
       "      <td>NaN</td>\n",
       "      <td>NaN</td>\n",
       "    </tr>\n",
       "    <tr>\n",
       "      <th>78603</th>\n",
       "      <td>0.0</td>\n",
       "      <td>NaN</td>\n",
       "      <td>NaN</td>\n",
       "      <td>NaN</td>\n",
       "      <td>NaN</td>\n",
       "      <td>NaN</td>\n",
       "      <td>NaN</td>\n",
       "      <td>NaN</td>\n",
       "      <td>NaN</td>\n",
       "      <td>NaN</td>\n",
       "      <td>NaN</td>\n",
       "      <td>NaN</td>\n",
       "    </tr>\n",
       "    <tr>\n",
       "      <th>113164</th>\n",
       "      <td>NaN</td>\n",
       "      <td>NaN</td>\n",
       "      <td>NaN</td>\n",
       "      <td>NaN</td>\n",
       "      <td>NaN</td>\n",
       "      <td>NaN</td>\n",
       "      <td>NaN</td>\n",
       "      <td>NaN</td>\n",
       "      <td>NaN</td>\n",
       "      <td>0.0</td>\n",
       "      <td>NaN</td>\n",
       "      <td>NaN</td>\n",
       "    </tr>\n",
       "    <tr>\n",
       "      <th>115606</th>\n",
       "      <td>NaN</td>\n",
       "      <td>NaN</td>\n",
       "      <td>NaN</td>\n",
       "      <td>NaN</td>\n",
       "      <td>NaN</td>\n",
       "      <td>NaN</td>\n",
       "      <td>NaN</td>\n",
       "      <td>0.0</td>\n",
       "      <td>NaN</td>\n",
       "      <td>NaN</td>\n",
       "      <td>NaN</td>\n",
       "      <td>NaN</td>\n",
       "    </tr>\n",
       "  </tbody>\n",
       "</table>\n",
       "</div>"
      ],
      "text/plain": [
       "CohortGroup  2016-06  2016-07  2016-08  2016-09  2016-10  2016-11  2016-12  \\\n",
       "uid                                                                          \n",
       "4245             NaN      NaN      NaN      NaN      NaN      0.0      NaN   \n",
       "5097             NaN      NaN      NaN      NaN      NaN      NaN      NaN   \n",
       "8896             NaN      NaN      NaN      NaN      NaN      NaN      NaN   \n",
       "21017            0.0      NaN      NaN      NaN      NaN      NaN      NaN   \n",
       "30696            NaN      NaN      NaN      NaN      NaN      0.0      NaN   \n",
       "56661            0.0      NaN      NaN      NaN      NaN      NaN      NaN   \n",
       "66255            NaN      NaN      NaN      0.0      NaN      NaN      NaN   \n",
       "78603            0.0      NaN      NaN      NaN      NaN      NaN      NaN   \n",
       "113164           NaN      NaN      NaN      NaN      NaN      NaN      NaN   \n",
       "115606           NaN      NaN      NaN      NaN      NaN      NaN      NaN   \n",
       "\n",
       "CohortGroup  2017-01  2017-02  2017-03  2017-04  2017-05  \n",
       "uid                                                       \n",
       "4245             NaN      NaN      NaN      NaN      NaN  \n",
       "5097             NaN      0.0      NaN      NaN      NaN  \n",
       "8896             0.0      NaN      NaN      NaN      NaN  \n",
       "21017            NaN      NaN      NaN      NaN      NaN  \n",
       "30696            NaN      NaN      NaN      NaN      NaN  \n",
       "56661            NaN      NaN      NaN      NaN      NaN  \n",
       "66255            NaN      NaN      NaN      NaN      NaN  \n",
       "78603            NaN      NaN      NaN      NaN      NaN  \n",
       "113164           NaN      NaN      0.0      NaN      NaN  \n",
       "115606           0.0      NaN      NaN      NaN      NaN  "
      ]
     },
     "execution_count": 17,
     "metadata": {},
     "output_type": "execute_result"
    }
   ],
   "source": [
    "users_cohort_summary = user_data_cohorts['TotalSum'].unstack(level=0)\n",
    "users_cohort_summary.head(10)"
   ]
  },
  {
   "cell_type": "markdown",
   "metadata": {},
   "source": [
    "#### Подсчет суммарной прибыли по каждой из когорт пользователей в динамике по месяцам с момента регистрации"
   ]
  },
  {
   "cell_type": "markdown",
   "metadata": {},
   "source": [
    "Подсчет суммарной прибыли по каждой когорте за каждый период."
   ]
  },
  {
   "cell_type": "code",
   "execution_count": 18,
   "metadata": {
    "scrolled": true
   },
   "outputs": [
    {
     "data": {
      "text/html": [
       "<div>\n",
       "<style scoped>\n",
       "    .dataframe tbody tr th:only-of-type {\n",
       "        vertical-align: middle;\n",
       "    }\n",
       "\n",
       "    .dataframe tbody tr th {\n",
       "        vertical-align: top;\n",
       "    }\n",
       "\n",
       "    .dataframe thead th {\n",
       "        text-align: right;\n",
       "    }\n",
       "</style>\n",
       "<table border=\"1\" class=\"dataframe\">\n",
       "  <thead>\n",
       "    <tr style=\"text-align: right;\">\n",
       "      <th>CohortGroup</th>\n",
       "      <th>2016-06</th>\n",
       "      <th>2016-07</th>\n",
       "      <th>2016-08</th>\n",
       "      <th>2016-09</th>\n",
       "      <th>2016-10</th>\n",
       "      <th>2016-11</th>\n",
       "      <th>2016-12</th>\n",
       "      <th>2017-01</th>\n",
       "      <th>2017-02</th>\n",
       "      <th>2017-03</th>\n",
       "      <th>2017-04</th>\n",
       "      <th>2017-05</th>\n",
       "    </tr>\n",
       "    <tr>\n",
       "      <th>CohortPeriod</th>\n",
       "      <th></th>\n",
       "      <th></th>\n",
       "      <th></th>\n",
       "      <th></th>\n",
       "      <th></th>\n",
       "      <th></th>\n",
       "      <th></th>\n",
       "      <th></th>\n",
       "      <th></th>\n",
       "      <th></th>\n",
       "      <th></th>\n",
       "      <th></th>\n",
       "    </tr>\n",
       "  </thead>\n",
       "  <tbody>\n",
       "    <tr>\n",
       "      <th>1</th>\n",
       "      <td>85524.53</td>\n",
       "      <td>29861.63</td>\n",
       "      <td>15545.35</td>\n",
       "      <td>45043.20</td>\n",
       "      <td>42265.64</td>\n",
       "      <td>63081.46</td>\n",
       "      <td>42517.75</td>\n",
       "      <td>29826.84</td>\n",
       "      <td>32389.50</td>\n",
       "      <td>24918.42</td>\n",
       "      <td>38356.23</td>\n",
       "      <td>25683.21</td>\n",
       "    </tr>\n",
       "    <tr>\n",
       "      <th>2</th>\n",
       "      <td>57405.00</td>\n",
       "      <td>9615.19</td>\n",
       "      <td>15457.98</td>\n",
       "      <td>48728.27</td>\n",
       "      <td>26315.70</td>\n",
       "      <td>21455.44</td>\n",
       "      <td>15607.28</td>\n",
       "      <td>29841.75</td>\n",
       "      <td>12441.71</td>\n",
       "      <td>46816.76</td>\n",
       "      <td>53087.66</td>\n",
       "      <td>NaN</td>\n",
       "    </tr>\n",
       "    <tr>\n",
       "      <th>3</th>\n",
       "      <td>58933.64</td>\n",
       "      <td>10286.20</td>\n",
       "      <td>16997.24</td>\n",
       "      <td>25120.14</td>\n",
       "      <td>4911.71</td>\n",
       "      <td>12496.30</td>\n",
       "      <td>16515.45</td>\n",
       "      <td>27703.77</td>\n",
       "      <td>3581.88</td>\n",
       "      <td>91819.72</td>\n",
       "      <td>NaN</td>\n",
       "      <td>NaN</td>\n",
       "    </tr>\n",
       "    <tr>\n",
       "      <th>4</th>\n",
       "      <td>277628.12</td>\n",
       "      <td>3297.92</td>\n",
       "      <td>12698.73</td>\n",
       "      <td>236840.02</td>\n",
       "      <td>7966.89</td>\n",
       "      <td>24085.82</td>\n",
       "      <td>43557.11</td>\n",
       "      <td>2036.97</td>\n",
       "      <td>4272.08</td>\n",
       "      <td>NaN</td>\n",
       "      <td>NaN</td>\n",
       "      <td>NaN</td>\n",
       "    </tr>\n",
       "    <tr>\n",
       "      <th>5</th>\n",
       "      <td>263478.99</td>\n",
       "      <td>10128.61</td>\n",
       "      <td>15976.32</td>\n",
       "      <td>5092.82</td>\n",
       "      <td>4521.58</td>\n",
       "      <td>10804.70</td>\n",
       "      <td>4705.78</td>\n",
       "      <td>14370.96</td>\n",
       "      <td>NaN</td>\n",
       "      <td>NaN</td>\n",
       "      <td>NaN</td>\n",
       "      <td>NaN</td>\n",
       "    </tr>\n",
       "    <tr>\n",
       "      <th>6</th>\n",
       "      <td>468153.66</td>\n",
       "      <td>4122.13</td>\n",
       "      <td>11686.38</td>\n",
       "      <td>11525.42</td>\n",
       "      <td>1969.86</td>\n",
       "      <td>3914.79</td>\n",
       "      <td>4667.38</td>\n",
       "      <td>NaN</td>\n",
       "      <td>NaN</td>\n",
       "      <td>NaN</td>\n",
       "      <td>NaN</td>\n",
       "      <td>NaN</td>\n",
       "    </tr>\n",
       "    <tr>\n",
       "      <th>7</th>\n",
       "      <td>319585.71</td>\n",
       "      <td>15126.18</td>\n",
       "      <td>9891.73</td>\n",
       "      <td>3806.23</td>\n",
       "      <td>2561.15</td>\n",
       "      <td>3666.95</td>\n",
       "      <td>NaN</td>\n",
       "      <td>NaN</td>\n",
       "      <td>NaN</td>\n",
       "      <td>NaN</td>\n",
       "      <td>NaN</td>\n",
       "      <td>NaN</td>\n",
       "    </tr>\n",
       "    <tr>\n",
       "      <th>8</th>\n",
       "      <td>377915.00</td>\n",
       "      <td>4497.02</td>\n",
       "      <td>51963.61</td>\n",
       "      <td>4846.63</td>\n",
       "      <td>5090.12</td>\n",
       "      <td>NaN</td>\n",
       "      <td>NaN</td>\n",
       "      <td>NaN</td>\n",
       "      <td>NaN</td>\n",
       "      <td>NaN</td>\n",
       "      <td>NaN</td>\n",
       "      <td>NaN</td>\n",
       "    </tr>\n",
       "    <tr>\n",
       "      <th>9</th>\n",
       "      <td>510933.50</td>\n",
       "      <td>8966.27</td>\n",
       "      <td>35262.62</td>\n",
       "      <td>4107.14</td>\n",
       "      <td>NaN</td>\n",
       "      <td>NaN</td>\n",
       "      <td>NaN</td>\n",
       "      <td>NaN</td>\n",
       "      <td>NaN</td>\n",
       "      <td>NaN</td>\n",
       "      <td>NaN</td>\n",
       "      <td>NaN</td>\n",
       "    </tr>\n",
       "    <tr>\n",
       "      <th>10</th>\n",
       "      <td>430956.03</td>\n",
       "      <td>15984.76</td>\n",
       "      <td>13305.55</td>\n",
       "      <td>NaN</td>\n",
       "      <td>NaN</td>\n",
       "      <td>NaN</td>\n",
       "      <td>NaN</td>\n",
       "      <td>NaN</td>\n",
       "      <td>NaN</td>\n",
       "      <td>NaN</td>\n",
       "      <td>NaN</td>\n",
       "      <td>NaN</td>\n",
       "    </tr>\n",
       "  </tbody>\n",
       "</table>\n",
       "</div>"
      ],
      "text/plain": [
       "CohortGroup     2016-06   2016-07   2016-08    2016-09   2016-10   2016-11  \\\n",
       "CohortPeriod                                                                 \n",
       "1              85524.53  29861.63  15545.35   45043.20  42265.64  63081.46   \n",
       "2              57405.00   9615.19  15457.98   48728.27  26315.70  21455.44   \n",
       "3              58933.64  10286.20  16997.24   25120.14   4911.71  12496.30   \n",
       "4             277628.12   3297.92  12698.73  236840.02   7966.89  24085.82   \n",
       "5             263478.99  10128.61  15976.32    5092.82   4521.58  10804.70   \n",
       "6             468153.66   4122.13  11686.38   11525.42   1969.86   3914.79   \n",
       "7             319585.71  15126.18   9891.73    3806.23   2561.15   3666.95   \n",
       "8             377915.00   4497.02  51963.61    4846.63   5090.12       NaN   \n",
       "9             510933.50   8966.27  35262.62    4107.14       NaN       NaN   \n",
       "10            430956.03  15984.76  13305.55        NaN       NaN       NaN   \n",
       "\n",
       "CohortGroup    2016-12   2017-01   2017-02   2017-03   2017-04   2017-05  \n",
       "CohortPeriod                                                              \n",
       "1             42517.75  29826.84  32389.50  24918.42  38356.23  25683.21  \n",
       "2             15607.28  29841.75  12441.71  46816.76  53087.66       NaN  \n",
       "3             16515.45  27703.77   3581.88  91819.72       NaN       NaN  \n",
       "4             43557.11   2036.97   4272.08       NaN       NaN       NaN  \n",
       "5              4705.78  14370.96       NaN       NaN       NaN       NaN  \n",
       "6              4667.38       NaN       NaN       NaN       NaN       NaN  \n",
       "7                  NaN       NaN       NaN       NaN       NaN       NaN  \n",
       "8                  NaN       NaN       NaN       NaN       NaN       NaN  \n",
       "9                  NaN       NaN       NaN       NaN       NaN       NaN  \n",
       "10                 NaN       NaN       NaN       NaN       NaN       NaN  "
      ]
     },
     "execution_count": 18,
     "metadata": {},
     "output_type": "execute_result"
    }
   ],
   "source": [
    "cohort_summary = cohorts_data['TotalSum'].unstack(level=0)\n",
    "cohort_summary.head(10)"
   ]
  },
  {
   "cell_type": "markdown",
   "metadata": {},
   "source": [
    "Визуализация прибыли от каждой когорты в динамике за каждый период."
   ]
  },
  {
   "cell_type": "code",
   "execution_count": 19,
   "metadata": {
    "scrolled": true
   },
   "outputs": [
    {
     "data": {
      "image/png": "[encoded data removed]",
      "text/plain": [
       "<Figure size 1440x576 with 2 Axes>"
      ]
     },
     "metadata": {
      "needs_background": "light"
     },
     "output_type": "display_data"
    }
   ],
   "source": [
    "_ = plt.figure(figsize=(20, 8))\n",
    "ax = sns.heatmap(cohort_summary.T, mask=cohort_summary.T.isnull(), annot=True, cmap='Blues', fmt='.1f')\n",
    "_ = ax.set_ylabel('Период', fontsize = 15)\n",
    "_ = ax.set_xlabel('Номер когорты', fontsize = 15)\n",
    "_ = ax.set_title('Суммарная прибыль по каждой из когорт', fontsize = 20)\n",
    "bottom_border, top_border = ax.get_ylim()\n",
    "_ = ax.set_ylim(bottom_border + 0.5, top_border-0.5)"
   ]
  },
  {
   "cell_type": "markdown",
   "metadata": {},
   "source": [
    "Визуализация суммарной прибыли от каждой когорты пользователей в динамике."
   ]
  },
  {
   "cell_type": "code",
   "execution_count": 20,
   "metadata": {
    "scrolled": true
   },
   "outputs": [
    {
     "data": {
      "text/plain": [
       "<matplotlib.axes._subplots.AxesSubplot at 0x808298db08>"
      ]
     },
     "execution_count": 20,
     "metadata": {},
     "output_type": "execute_result"
    },
    {
     "data": {
      "image/png": "[encoded data removed]",
      "text/plain": [
       "<Figure size 864x576 with 1 Axes>"
      ]
     },
     "metadata": {
      "needs_background": "light"
     },
     "output_type": "display_data"
    }
   ],
   "source": [
    "cohort_contrib_margin = cohort_summary.sum(axis=0)\n",
    "cohort_contrib_margin.plot(kind='bar', figsize=(12,8), title='Суммарная прибыль от когорты пользователей')"
   ]
  },
  {
   "cell_type": "markdown",
   "metadata": {},
   "source": [
    "#### Подсчет кумулятивной прибыли когорты пользователей в динамике по дням (месяцам)"
   ]
  },
  {
   "cell_type": "code",
   "execution_count": 21,
   "metadata": {},
   "outputs": [],
   "source": [
    "cohort_cummulative_revenue = cohort_summary.copy()\n",
    "for col_loc in range(cohort_summary.shape[1]):\n",
    "    for row_loc in range(cohort_summary.shape[0]):\n",
    "        cohort_cummulative_revenue.iloc[row_loc, col_loc] = np.sum(cohort_summary.iloc[:row_loc, col_loc])"
   ]
  },
  {
   "cell_type": "code",
   "execution_count": 22,
   "metadata": {
    "scrolled": true
   },
   "outputs": [
    {
     "data": {
      "text/html": [
       "<div>\n",
       "<style scoped>\n",
       "    .dataframe tbody tr th:only-of-type {\n",
       "        vertical-align: middle;\n",
       "    }\n",
       "\n",
       "    .dataframe tbody tr th {\n",
       "        vertical-align: top;\n",
       "    }\n",
       "\n",
       "    .dataframe thead th {\n",
       "        text-align: right;\n",
       "    }\n",
       "</style>\n",
       "<table border=\"1\" class=\"dataframe\">\n",
       "  <thead>\n",
       "    <tr style=\"text-align: right;\">\n",
       "      <th>CohortGroup</th>\n",
       "      <th>2016-06</th>\n",
       "      <th>2016-07</th>\n",
       "      <th>2016-08</th>\n",
       "      <th>2016-09</th>\n",
       "      <th>2016-10</th>\n",
       "      <th>2016-11</th>\n",
       "      <th>2016-12</th>\n",
       "      <th>2017-01</th>\n",
       "      <th>2017-02</th>\n",
       "      <th>2017-03</th>\n",
       "      <th>2017-04</th>\n",
       "      <th>2017-05</th>\n",
       "    </tr>\n",
       "    <tr>\n",
       "      <th>CohortPeriod</th>\n",
       "      <th></th>\n",
       "      <th></th>\n",
       "      <th></th>\n",
       "      <th></th>\n",
       "      <th></th>\n",
       "      <th></th>\n",
       "      <th></th>\n",
       "      <th></th>\n",
       "      <th></th>\n",
       "      <th></th>\n",
       "      <th></th>\n",
       "      <th></th>\n",
       "    </tr>\n",
       "  </thead>\n",
       "  <tbody>\n",
       "    <tr>\n",
       "      <th>1</th>\n",
       "      <td>0.00</td>\n",
       "      <td>0.00</td>\n",
       "      <td>0.00</td>\n",
       "      <td>0.00</td>\n",
       "      <td>0.00</td>\n",
       "      <td>0.00</td>\n",
       "      <td>0.00</td>\n",
       "      <td>0.00</td>\n",
       "      <td>0.00</td>\n",
       "      <td>0.00</td>\n",
       "      <td>0.00</td>\n",
       "      <td>0.00</td>\n",
       "    </tr>\n",
       "    <tr>\n",
       "      <th>2</th>\n",
       "      <td>85524.53</td>\n",
       "      <td>29861.63</td>\n",
       "      <td>15545.35</td>\n",
       "      <td>45043.20</td>\n",
       "      <td>42265.64</td>\n",
       "      <td>63081.46</td>\n",
       "      <td>42517.75</td>\n",
       "      <td>29826.84</td>\n",
       "      <td>32389.50</td>\n",
       "      <td>24918.42</td>\n",
       "      <td>38356.23</td>\n",
       "      <td>25683.21</td>\n",
       "    </tr>\n",
       "    <tr>\n",
       "      <th>3</th>\n",
       "      <td>142929.53</td>\n",
       "      <td>39476.82</td>\n",
       "      <td>31003.33</td>\n",
       "      <td>93771.47</td>\n",
       "      <td>68581.34</td>\n",
       "      <td>84536.90</td>\n",
       "      <td>58125.03</td>\n",
       "      <td>59668.59</td>\n",
       "      <td>44831.21</td>\n",
       "      <td>71735.18</td>\n",
       "      <td>91443.89</td>\n",
       "      <td>25683.21</td>\n",
       "    </tr>\n",
       "    <tr>\n",
       "      <th>4</th>\n",
       "      <td>201863.17</td>\n",
       "      <td>49763.02</td>\n",
       "      <td>48000.57</td>\n",
       "      <td>118891.61</td>\n",
       "      <td>73493.05</td>\n",
       "      <td>97033.20</td>\n",
       "      <td>74640.48</td>\n",
       "      <td>87372.36</td>\n",
       "      <td>48413.09</td>\n",
       "      <td>163554.90</td>\n",
       "      <td>91443.89</td>\n",
       "      <td>25683.21</td>\n",
       "    </tr>\n",
       "    <tr>\n",
       "      <th>5</th>\n",
       "      <td>479491.29</td>\n",
       "      <td>53060.94</td>\n",
       "      <td>60699.30</td>\n",
       "      <td>355731.63</td>\n",
       "      <td>81459.94</td>\n",
       "      <td>121119.02</td>\n",
       "      <td>118197.59</td>\n",
       "      <td>89409.33</td>\n",
       "      <td>52685.17</td>\n",
       "      <td>163554.90</td>\n",
       "      <td>91443.89</td>\n",
       "      <td>25683.21</td>\n",
       "    </tr>\n",
       "    <tr>\n",
       "      <th>6</th>\n",
       "      <td>742970.28</td>\n",
       "      <td>63189.55</td>\n",
       "      <td>76675.62</td>\n",
       "      <td>360824.45</td>\n",
       "      <td>85981.52</td>\n",
       "      <td>131923.72</td>\n",
       "      <td>122903.37</td>\n",
       "      <td>103780.29</td>\n",
       "      <td>52685.17</td>\n",
       "      <td>163554.90</td>\n",
       "      <td>91443.89</td>\n",
       "      <td>25683.21</td>\n",
       "    </tr>\n",
       "    <tr>\n",
       "      <th>7</th>\n",
       "      <td>1211123.94</td>\n",
       "      <td>67311.68</td>\n",
       "      <td>88362.00</td>\n",
       "      <td>372349.87</td>\n",
       "      <td>87951.38</td>\n",
       "      <td>135838.51</td>\n",
       "      <td>127570.75</td>\n",
       "      <td>103780.29</td>\n",
       "      <td>52685.17</td>\n",
       "      <td>163554.90</td>\n",
       "      <td>91443.89</td>\n",
       "      <td>25683.21</td>\n",
       "    </tr>\n",
       "    <tr>\n",
       "      <th>8</th>\n",
       "      <td>1530709.65</td>\n",
       "      <td>82437.86</td>\n",
       "      <td>98253.73</td>\n",
       "      <td>376156.10</td>\n",
       "      <td>90512.53</td>\n",
       "      <td>139505.46</td>\n",
       "      <td>127570.75</td>\n",
       "      <td>103780.29</td>\n",
       "      <td>52685.17</td>\n",
       "      <td>163554.90</td>\n",
       "      <td>91443.89</td>\n",
       "      <td>25683.21</td>\n",
       "    </tr>\n",
       "    <tr>\n",
       "      <th>9</th>\n",
       "      <td>1908624.65</td>\n",
       "      <td>86934.88</td>\n",
       "      <td>150217.34</td>\n",
       "      <td>381002.73</td>\n",
       "      <td>95602.65</td>\n",
       "      <td>139505.46</td>\n",
       "      <td>127570.75</td>\n",
       "      <td>103780.29</td>\n",
       "      <td>52685.17</td>\n",
       "      <td>163554.90</td>\n",
       "      <td>91443.89</td>\n",
       "      <td>25683.21</td>\n",
       "    </tr>\n",
       "    <tr>\n",
       "      <th>10</th>\n",
       "      <td>2419558.15</td>\n",
       "      <td>95901.15</td>\n",
       "      <td>185479.96</td>\n",
       "      <td>385109.87</td>\n",
       "      <td>95602.65</td>\n",
       "      <td>139505.46</td>\n",
       "      <td>127570.75</td>\n",
       "      <td>103780.29</td>\n",
       "      <td>52685.17</td>\n",
       "      <td>163554.90</td>\n",
       "      <td>91443.89</td>\n",
       "      <td>25683.21</td>\n",
       "    </tr>\n",
       "    <tr>\n",
       "      <th>11</th>\n",
       "      <td>2850514.18</td>\n",
       "      <td>111885.91</td>\n",
       "      <td>198785.51</td>\n",
       "      <td>385109.87</td>\n",
       "      <td>95602.65</td>\n",
       "      <td>139505.46</td>\n",
       "      <td>127570.75</td>\n",
       "      <td>103780.29</td>\n",
       "      <td>52685.17</td>\n",
       "      <td>163554.90</td>\n",
       "      <td>91443.89</td>\n",
       "      <td>25683.21</td>\n",
       "    </tr>\n",
       "    <tr>\n",
       "      <th>12</th>\n",
       "      <td>3054293.60</td>\n",
       "      <td>113553.83</td>\n",
       "      <td>198785.51</td>\n",
       "      <td>385109.87</td>\n",
       "      <td>95602.65</td>\n",
       "      <td>139505.46</td>\n",
       "      <td>127570.75</td>\n",
       "      <td>103780.29</td>\n",
       "      <td>52685.17</td>\n",
       "      <td>163554.90</td>\n",
       "      <td>91443.89</td>\n",
       "      <td>25683.21</td>\n",
       "    </tr>\n",
       "  </tbody>\n",
       "</table>\n",
       "</div>"
      ],
      "text/plain": [
       "CohortGroup      2016-06    2016-07    2016-08    2016-09   2016-10  \\\n",
       "CohortPeriod                                                          \n",
       "1                   0.00       0.00       0.00       0.00      0.00   \n",
       "2               85524.53   29861.63   15545.35   45043.20  42265.64   \n",
       "3              142929.53   39476.82   31003.33   93771.47  68581.34   \n",
       "4              201863.17   49763.02   48000.57  118891.61  73493.05   \n",
       "5              479491.29   53060.94   60699.30  355731.63  81459.94   \n",
       "6              742970.28   63189.55   76675.62  360824.45  85981.52   \n",
       "7             1211123.94   67311.68   88362.00  372349.87  87951.38   \n",
       "8             1530709.65   82437.86   98253.73  376156.10  90512.53   \n",
       "9             1908624.65   86934.88  150217.34  381002.73  95602.65   \n",
       "10            2419558.15   95901.15  185479.96  385109.87  95602.65   \n",
       "11            2850514.18  111885.91  198785.51  385109.87  95602.65   \n",
       "12            3054293.60  113553.83  198785.51  385109.87  95602.65   \n",
       "\n",
       "CohortGroup     2016-11    2016-12    2017-01   2017-02    2017-03   2017-04  \\\n",
       "CohortPeriod                                                                   \n",
       "1                  0.00       0.00       0.00      0.00       0.00      0.00   \n",
       "2              63081.46   42517.75   29826.84  32389.50   24918.42  38356.23   \n",
       "3              84536.90   58125.03   59668.59  44831.21   71735.18  91443.89   \n",
       "4              97033.20   74640.48   87372.36  48413.09  163554.90  91443.89   \n",
       "5             121119.02  118197.59   89409.33  52685.17  163554.90  91443.89   \n",
       "6             131923.72  122903.37  103780.29  52685.17  163554.90  91443.89   \n",
       "7             135838.51  127570.75  103780.29  52685.17  163554.90  91443.89   \n",
       "8             139505.46  127570.75  103780.29  52685.17  163554.90  91443.89   \n",
       "9             139505.46  127570.75  103780.29  52685.17  163554.90  91443.89   \n",
       "10            139505.46  127570.75  103780.29  52685.17  163554.90  91443.89   \n",
       "11            139505.46  127570.75  103780.29  52685.17  163554.90  91443.89   \n",
       "12            139505.46  127570.75  103780.29  52685.17  163554.90  91443.89   \n",
       "\n",
       "CohortGroup    2017-05  \n",
       "CohortPeriod            \n",
       "1                 0.00  \n",
       "2             25683.21  \n",
       "3             25683.21  \n",
       "4             25683.21  \n",
       "5             25683.21  \n",
       "6             25683.21  \n",
       "7             25683.21  \n",
       "8             25683.21  \n",
       "9             25683.21  \n",
       "10            25683.21  \n",
       "11            25683.21  \n",
       "12            25683.21  "
      ]
     },
     "execution_count": 22,
     "metadata": {},
     "output_type": "execute_result"
    }
   ],
   "source": [
    "cohort_cummulative_revenue"
   ]
  },
  {
   "cell_type": "markdown",
   "metadata": {},
   "source": [
    "Визуализация кумулятивной прибыли когороты пользователей в динамике по месяцам."
   ]
  },
  {
   "cell_type": "code",
   "execution_count": 23,
   "metadata": {
    "scrolled": true
   },
   "outputs": [
    {
     "data": {
      "image/png": "[encoded data removed]",
      "text/plain": [
       "<Figure size 1440x576 with 2 Axes>"
      ]
     },
     "metadata": {
      "needs_background": "light"
     },
     "output_type": "display_data"
    }
   ],
   "source": [
    "_ = plt.figure(figsize=(20, 8))\n",
    "ax = sns.heatmap(cohort_cummulative_revenue.T, mask=cohort_cummulative_revenue.T.isnull(), annot=True, cmap='Blues', fmt='.1f')\n",
    "_ = ax.set_ylabel('Период', fontsize = 15)\n",
    "_ = ax.set_xlabel('Номер когорты', fontsize = 15)\n",
    "_ = ax.set_title('Кумулятивная прибыль когорты пользователей в динамике по месяцам', fontsize = 20)\n",
    "bottom_border, top_border = ax.get_ylim()\n",
    "_ = ax.set_ylim(bottom_border + 0.5, top_border-0.5)"
   ]
  },
  {
   "cell_type": "markdown",
   "metadata": {},
   "source": [
    "#### Подсчет динамики LTV когорты пользователей по месяцам"
   ]
  },
  {
   "cell_type": "code",
   "execution_count": 24,
   "metadata": {},
   "outputs": [
    {
     "data": {
      "text/plain": [
       "CohortGroup\n",
       "2016-06    23926\n",
       "2016-07    22779\n",
       "2016-08    17688\n",
       "2016-09    28735\n",
       "2016-10    43906\n",
       "Name: TotalUsers, dtype: int64"
      ]
     },
     "execution_count": 24,
     "metadata": {},
     "output_type": "execute_result"
    }
   ],
   "source": [
    "# создадим столбец, определеяющий размер каждой из когорт.\n",
    "cohort_group_size = cohorts_data['TotalUsers'].groupby(level=0).first()\n",
    "cohort_group_size.head()"
   ]
  },
  {
   "cell_type": "code",
   "execution_count": 25,
   "metadata": {
    "scrolled": true
   },
   "outputs": [
    {
     "data": {
      "text/html": [
       "<div>\n",
       "<style scoped>\n",
       "    .dataframe tbody tr th:only-of-type {\n",
       "        vertical-align: middle;\n",
       "    }\n",
       "\n",
       "    .dataframe tbody tr th {\n",
       "        vertical-align: top;\n",
       "    }\n",
       "\n",
       "    .dataframe thead th {\n",
       "        text-align: right;\n",
       "    }\n",
       "</style>\n",
       "<table border=\"1\" class=\"dataframe\">\n",
       "  <thead>\n",
       "    <tr style=\"text-align: right;\">\n",
       "      <th>CohortGroup</th>\n",
       "      <th>2016-06</th>\n",
       "      <th>2016-07</th>\n",
       "      <th>2016-08</th>\n",
       "      <th>2016-09</th>\n",
       "      <th>2016-10</th>\n",
       "      <th>2016-11</th>\n",
       "      <th>2016-12</th>\n",
       "      <th>2017-01</th>\n",
       "      <th>2017-02</th>\n",
       "      <th>2017-03</th>\n",
       "      <th>2017-04</th>\n",
       "      <th>2017-05</th>\n",
       "    </tr>\n",
       "    <tr>\n",
       "      <th>CohortPeriod</th>\n",
       "      <th></th>\n",
       "      <th></th>\n",
       "      <th></th>\n",
       "      <th></th>\n",
       "      <th></th>\n",
       "      <th></th>\n",
       "      <th></th>\n",
       "      <th></th>\n",
       "      <th></th>\n",
       "      <th></th>\n",
       "      <th></th>\n",
       "      <th></th>\n",
       "    </tr>\n",
       "  </thead>\n",
       "  <tbody>\n",
       "    <tr>\n",
       "      <th>1</th>\n",
       "      <td>0.000000</td>\n",
       "      <td>0.000000</td>\n",
       "      <td>0.000000</td>\n",
       "      <td>0.000000</td>\n",
       "      <td>0.000000</td>\n",
       "      <td>0.000000</td>\n",
       "      <td>0.000000</td>\n",
       "      <td>0.000000</td>\n",
       "      <td>0.000000</td>\n",
       "      <td>0.000000</td>\n",
       "      <td>0.000000</td>\n",
       "      <td>0.00000</td>\n",
       "    </tr>\n",
       "    <tr>\n",
       "      <th>2</th>\n",
       "      <td>3.574544</td>\n",
       "      <td>1.310928</td>\n",
       "      <td>0.878864</td>\n",
       "      <td>1.567538</td>\n",
       "      <td>0.962639</td>\n",
       "      <td>1.406499</td>\n",
       "      <td>1.029162</td>\n",
       "      <td>0.798342</td>\n",
       "      <td>0.893775</td>\n",
       "      <td>0.749787</td>\n",
       "      <td>1.509197</td>\n",
       "      <td>1.04086</td>\n",
       "    </tr>\n",
       "    <tr>\n",
       "      <th>3</th>\n",
       "      <td>5.973816</td>\n",
       "      <td>1.733036</td>\n",
       "      <td>1.752789</td>\n",
       "      <td>3.263319</td>\n",
       "      <td>1.562004</td>\n",
       "      <td>1.884881</td>\n",
       "      <td>1.406943</td>\n",
       "      <td>1.597082</td>\n",
       "      <td>1.237098</td>\n",
       "      <td>2.158488</td>\n",
       "      <td>3.598028</td>\n",
       "      <td>1.04086</td>\n",
       "    </tr>\n",
       "    <tr>\n",
       "      <th>4</th>\n",
       "      <td>8.436979</td>\n",
       "      <td>2.184601</td>\n",
       "      <td>2.713736</td>\n",
       "      <td>4.137519</td>\n",
       "      <td>1.673873</td>\n",
       "      <td>2.163505</td>\n",
       "      <td>1.806707</td>\n",
       "      <td>2.338598</td>\n",
       "      <td>1.335939</td>\n",
       "      <td>4.921313</td>\n",
       "      <td>3.598028</td>\n",
       "      <td>1.04086</td>\n",
       "    </tr>\n",
       "    <tr>\n",
       "      <th>5</th>\n",
       "      <td>20.040596</td>\n",
       "      <td>2.329380</td>\n",
       "      <td>3.431666</td>\n",
       "      <td>12.379733</td>\n",
       "      <td>1.855326</td>\n",
       "      <td>2.700536</td>\n",
       "      <td>2.861027</td>\n",
       "      <td>2.393119</td>\n",
       "      <td>1.453825</td>\n",
       "      <td>4.921313</td>\n",
       "      <td>3.598028</td>\n",
       "      <td>1.04086</td>\n",
       "    </tr>\n",
       "    <tr>\n",
       "      <th>6</th>\n",
       "      <td>31.052841</td>\n",
       "      <td>2.774027</td>\n",
       "      <td>4.334895</td>\n",
       "      <td>12.556967</td>\n",
       "      <td>1.958309</td>\n",
       "      <td>2.941443</td>\n",
       "      <td>2.974932</td>\n",
       "      <td>2.777771</td>\n",
       "      <td>1.453825</td>\n",
       "      <td>4.921313</td>\n",
       "      <td>3.598028</td>\n",
       "      <td>1.04086</td>\n",
       "    </tr>\n",
       "    <tr>\n",
       "      <th>7</th>\n",
       "      <td>50.619575</td>\n",
       "      <td>2.954988</td>\n",
       "      <td>4.995590</td>\n",
       "      <td>12.958061</td>\n",
       "      <td>2.003175</td>\n",
       "      <td>3.028729</td>\n",
       "      <td>3.087908</td>\n",
       "      <td>2.777771</td>\n",
       "      <td>1.453825</td>\n",
       "      <td>4.921313</td>\n",
       "      <td>3.598028</td>\n",
       "      <td>1.04086</td>\n",
       "    </tr>\n",
       "    <tr>\n",
       "      <th>8</th>\n",
       "      <td>63.976831</td>\n",
       "      <td>3.619029</td>\n",
       "      <td>5.554824</td>\n",
       "      <td>13.090520</td>\n",
       "      <td>2.061507</td>\n",
       "      <td>3.110490</td>\n",
       "      <td>3.087908</td>\n",
       "      <td>2.777771</td>\n",
       "      <td>1.453825</td>\n",
       "      <td>4.921313</td>\n",
       "      <td>3.598028</td>\n",
       "      <td>1.04086</td>\n",
       "    </tr>\n",
       "    <tr>\n",
       "      <th>9</th>\n",
       "      <td>79.771991</td>\n",
       "      <td>3.816448</td>\n",
       "      <td>8.492613</td>\n",
       "      <td>13.259187</td>\n",
       "      <td>2.177439</td>\n",
       "      <td>3.110490</td>\n",
       "      <td>3.087908</td>\n",
       "      <td>2.777771</td>\n",
       "      <td>1.453825</td>\n",
       "      <td>4.921313</td>\n",
       "      <td>3.598028</td>\n",
       "      <td>1.04086</td>\n",
       "    </tr>\n",
       "    <tr>\n",
       "      <th>10</th>\n",
       "      <td>101.126730</td>\n",
       "      <td>4.210068</td>\n",
       "      <td>10.486203</td>\n",
       "      <td>13.402118</td>\n",
       "      <td>2.177439</td>\n",
       "      <td>3.110490</td>\n",
       "      <td>3.087908</td>\n",
       "      <td>2.777771</td>\n",
       "      <td>1.453825</td>\n",
       "      <td>4.921313</td>\n",
       "      <td>3.598028</td>\n",
       "      <td>1.04086</td>\n",
       "    </tr>\n",
       "    <tr>\n",
       "      <th>11</th>\n",
       "      <td>119.138769</td>\n",
       "      <td>4.911801</td>\n",
       "      <td>11.238439</td>\n",
       "      <td>13.402118</td>\n",
       "      <td>2.177439</td>\n",
       "      <td>3.110490</td>\n",
       "      <td>3.087908</td>\n",
       "      <td>2.777771</td>\n",
       "      <td>1.453825</td>\n",
       "      <td>4.921313</td>\n",
       "      <td>3.598028</td>\n",
       "      <td>1.04086</td>\n",
       "    </tr>\n",
       "    <tr>\n",
       "      <th>12</th>\n",
       "      <td>127.655839</td>\n",
       "      <td>4.985023</td>\n",
       "      <td>11.238439</td>\n",
       "      <td>13.402118</td>\n",
       "      <td>2.177439</td>\n",
       "      <td>3.110490</td>\n",
       "      <td>3.087908</td>\n",
       "      <td>2.777771</td>\n",
       "      <td>1.453825</td>\n",
       "      <td>4.921313</td>\n",
       "      <td>3.598028</td>\n",
       "      <td>1.04086</td>\n",
       "    </tr>\n",
       "  </tbody>\n",
       "</table>\n",
       "</div>"
      ],
      "text/plain": [
       "CohortGroup      2016-06   2016-07    2016-08    2016-09   2016-10   2016-11  \\\n",
       "CohortPeriod                                                                   \n",
       "1               0.000000  0.000000   0.000000   0.000000  0.000000  0.000000   \n",
       "2               3.574544  1.310928   0.878864   1.567538  0.962639  1.406499   \n",
       "3               5.973816  1.733036   1.752789   3.263319  1.562004  1.884881   \n",
       "4               8.436979  2.184601   2.713736   4.137519  1.673873  2.163505   \n",
       "5              20.040596  2.329380   3.431666  12.379733  1.855326  2.700536   \n",
       "6              31.052841  2.774027   4.334895  12.556967  1.958309  2.941443   \n",
       "7              50.619575  2.954988   4.995590  12.958061  2.003175  3.028729   \n",
       "8              63.976831  3.619029   5.554824  13.090520  2.061507  3.110490   \n",
       "9              79.771991  3.816448   8.492613  13.259187  2.177439  3.110490   \n",
       "10            101.126730  4.210068  10.486203  13.402118  2.177439  3.110490   \n",
       "11            119.138769  4.911801  11.238439  13.402118  2.177439  3.110490   \n",
       "12            127.655839  4.985023  11.238439  13.402118  2.177439  3.110490   \n",
       "\n",
       "CohortGroup    2016-12   2017-01   2017-02   2017-03   2017-04  2017-05  \n",
       "CohortPeriod                                                             \n",
       "1             0.000000  0.000000  0.000000  0.000000  0.000000  0.00000  \n",
       "2             1.029162  0.798342  0.893775  0.749787  1.509197  1.04086  \n",
       "3             1.406943  1.597082  1.237098  2.158488  3.598028  1.04086  \n",
       "4             1.806707  2.338598  1.335939  4.921313  3.598028  1.04086  \n",
       "5             2.861027  2.393119  1.453825  4.921313  3.598028  1.04086  \n",
       "6             2.974932  2.777771  1.453825  4.921313  3.598028  1.04086  \n",
       "7             3.087908  2.777771  1.453825  4.921313  3.598028  1.04086  \n",
       "8             3.087908  2.777771  1.453825  4.921313  3.598028  1.04086  \n",
       "9             3.087908  2.777771  1.453825  4.921313  3.598028  1.04086  \n",
       "10            3.087908  2.777771  1.453825  4.921313  3.598028  1.04086  \n",
       "11            3.087908  2.777771  1.453825  4.921313  3.598028  1.04086  \n",
       "12            3.087908  2.777771  1.453825  4.921313  3.598028  1.04086  "
      ]
     },
     "execution_count": 25,
     "metadata": {},
     "output_type": "execute_result"
    }
   ],
   "source": [
    "ltv_cohorts_value = cohort_cummulative_revenue.divide(cohort_group_size, axis=1)\n",
    "ltv_cohorts_value"
   ]
  },
  {
   "cell_type": "markdown",
   "metadata": {},
   "source": [
    "Визуализируем посчитанную динамику LTV по когортам."
   ]
  },
  {
   "cell_type": "markdown",
   "metadata": {},
   "source": [
    "Отобразим динамику LTV по когортам с помощью heatmap."
   ]
  },
  {
   "cell_type": "code",
   "execution_count": 26,
   "metadata": {},
   "outputs": [
    {
     "data": {
      "image/png": "[encoded data removed]",
      "text/plain": [
       "<Figure size 1440x576 with 2 Axes>"
      ]
     },
     "metadata": {
      "needs_background": "light"
     },
     "output_type": "display_data"
    }
   ],
   "source": [
    "_ = plt.figure(figsize=(20, 8))\n",
    "ax = sns.heatmap(ltv_cohorts_value.T, mask=ltv_cohorts_value.T.isnull(), annot=True, cmap='Blues', fmt='.1f')\n",
    "_ = ax.set_ylabel('Период', fontsize = 15)\n",
    "_ = ax.set_xlabel('Номер когорты', fontsize = 15)\n",
    "_ = ax.set_title('LTV', fontsize = 20)\n",
    "bottom_border, top_border = ax.get_ylim()\n",
    "_ = ax.set_ylim(bottom_border + 0.5, top_border-0.5)"
   ]
  },
  {
   "cell_type": "markdown",
   "metadata": {},
   "source": [
    "Отобразим динамику LTV по когортам с помощью обычного графика."
   ]
  },
  {
   "cell_type": "code",
   "execution_count": 28,
   "metadata": {
    "scrolled": true
   },
   "outputs": [
    {
     "data": {
      "image/png": "[encoded data removed]",
      "text/plain": [
       "<Figure size 720x360 with 1 Axes>"
      ]
     },
     "metadata": {
      "needs_background": "light"
     },
     "output_type": "display_data"
    }
   ],
   "source": [
    "_ = ltv_cohorts_value.plot(figsize=(10,5))\n",
    "_ = plt.title('Cohorts: LTV')\n",
    "_ = plt.xticks(np.arange(1, 12.1, 1))\n",
    "_ = plt.xlim(1, 12)\n",
    "_ = plt.ylabel('LTV value')"
   ]
  },
  {
   "cell_type": "code",
   "execution_count": 29,
   "metadata": {
    "scrolled": true
   },
   "outputs": [
    {
     "data": {
      "image/png": "[encoded data removed]",
      "text/plain": [
       "<Figure size 720x360 with 1 Axes>"
      ]
     },
     "metadata": {
      "needs_background": "light"
     },
     "output_type": "display_data"
    }
   ],
   "source": [
    "# определим суммарное значение LTV по каждой из когорт\n",
    "summary_margin_cohort_group = ltv_cohorts_value.loc[ltv_cohorts_value.shape[0],:]\n",
    "_ = summary_margin_cohort_group.plot(figsize=(10,5), kind='bar')\n",
    "_ = plt.ylabel('Значение LTV')"
   ]
  },
  {
   "cell_type": "markdown",
   "metadata": {},
   "source": [
    "#### Подсчет динамики возвращаемости пользователей по месяцам"
   ]
  },
  {
   "cell_type": "code",
   "execution_count": 30,
   "metadata": {
    "scrolled": true
   },
   "outputs": [
    {
     "data": {
      "text/html": [
       "<div>\n",
       "<style scoped>\n",
       "    .dataframe tbody tr th:only-of-type {\n",
       "        vertical-align: middle;\n",
       "    }\n",
       "\n",
       "    .dataframe tbody tr th {\n",
       "        vertical-align: top;\n",
       "    }\n",
       "\n",
       "    .dataframe thead th {\n",
       "        text-align: right;\n",
       "    }\n",
       "</style>\n",
       "<table border=\"1\" class=\"dataframe\">\n",
       "  <thead>\n",
       "    <tr style=\"text-align: right;\">\n",
       "      <th>CohortGroup</th>\n",
       "      <th>2016-06</th>\n",
       "      <th>2016-07</th>\n",
       "      <th>2016-08</th>\n",
       "      <th>2016-09</th>\n",
       "      <th>2016-10</th>\n",
       "      <th>2016-11</th>\n",
       "      <th>2016-12</th>\n",
       "      <th>2017-01</th>\n",
       "      <th>2017-02</th>\n",
       "      <th>2017-03</th>\n",
       "      <th>2017-04</th>\n",
       "      <th>2017-05</th>\n",
       "    </tr>\n",
       "    <tr>\n",
       "      <th>CohortPeriod</th>\n",
       "      <th></th>\n",
       "      <th></th>\n",
       "      <th></th>\n",
       "      <th></th>\n",
       "      <th></th>\n",
       "      <th></th>\n",
       "      <th></th>\n",
       "      <th></th>\n",
       "      <th></th>\n",
       "      <th></th>\n",
       "      <th></th>\n",
       "      <th></th>\n",
       "    </tr>\n",
       "  </thead>\n",
       "  <tbody>\n",
       "    <tr>\n",
       "      <th>1</th>\n",
       "      <td>1.000000</td>\n",
       "      <td>1.000000</td>\n",
       "      <td>1.000000</td>\n",
       "      <td>1.000000</td>\n",
       "      <td>1.000000</td>\n",
       "      <td>1.000000</td>\n",
       "      <td>1.000000</td>\n",
       "      <td>1.000000</td>\n",
       "      <td>1.000000</td>\n",
       "      <td>1.000000</td>\n",
       "      <td>1.00000</td>\n",
       "      <td>1.0</td>\n",
       "    </tr>\n",
       "    <tr>\n",
       "      <th>2</th>\n",
       "      <td>0.107540</td>\n",
       "      <td>0.074147</td>\n",
       "      <td>0.103630</td>\n",
       "      <td>0.112859</td>\n",
       "      <td>0.103198</td>\n",
       "      <td>0.097458</td>\n",
       "      <td>0.075255</td>\n",
       "      <td>0.078049</td>\n",
       "      <td>0.073512</td>\n",
       "      <td>0.057622</td>\n",
       "      <td>0.06087</td>\n",
       "      <td>NaN</td>\n",
       "    </tr>\n",
       "    <tr>\n",
       "      <th>3</th>\n",
       "      <td>0.070091</td>\n",
       "      <td>0.067826</td>\n",
       "      <td>0.087743</td>\n",
       "      <td>0.086758</td>\n",
       "      <td>0.066847</td>\n",
       "      <td>0.058573</td>\n",
       "      <td>0.050299</td>\n",
       "      <td>0.051016</td>\n",
       "      <td>0.036011</td>\n",
       "      <td>0.035716</td>\n",
       "      <td>NaN</td>\n",
       "      <td>NaN</td>\n",
       "    </tr>\n",
       "    <tr>\n",
       "      <th>4</th>\n",
       "      <td>0.083633</td>\n",
       "      <td>0.076957</td>\n",
       "      <td>0.080507</td>\n",
       "      <td>0.064903</td>\n",
       "      <td>0.052567</td>\n",
       "      <td>0.048183</td>\n",
       "      <td>0.042650</td>\n",
       "      <td>0.031744</td>\n",
       "      <td>0.028174</td>\n",
       "      <td>NaN</td>\n",
       "      <td>NaN</td>\n",
       "      <td>NaN</td>\n",
       "    </tr>\n",
       "    <tr>\n",
       "      <th>5</th>\n",
       "      <td>0.095377</td>\n",
       "      <td>0.077484</td>\n",
       "      <td>0.067673</td>\n",
       "      <td>0.054533</td>\n",
       "      <td>0.047192</td>\n",
       "      <td>0.043478</td>\n",
       "      <td>0.027401</td>\n",
       "      <td>0.026605</td>\n",
       "      <td>NaN</td>\n",
       "      <td>NaN</td>\n",
       "      <td>NaN</td>\n",
       "      <td>NaN</td>\n",
       "    </tr>\n",
       "    <tr>\n",
       "      <th>6</th>\n",
       "      <td>0.093037</td>\n",
       "      <td>0.064972</td>\n",
       "      <td>0.061228</td>\n",
       "      <td>0.051157</td>\n",
       "      <td>0.044436</td>\n",
       "      <td>0.030479</td>\n",
       "      <td>0.025513</td>\n",
       "      <td>NaN</td>\n",
       "      <td>NaN</td>\n",
       "      <td>NaN</td>\n",
       "      <td>NaN</td>\n",
       "      <td>NaN</td>\n",
       "    </tr>\n",
       "    <tr>\n",
       "      <th>7</th>\n",
       "      <td>0.080624</td>\n",
       "      <td>0.063436</td>\n",
       "      <td>0.055122</td>\n",
       "      <td>0.049173</td>\n",
       "      <td>0.030474</td>\n",
       "      <td>0.028852</td>\n",
       "      <td>NaN</td>\n",
       "      <td>NaN</td>\n",
       "      <td>NaN</td>\n",
       "      <td>NaN</td>\n",
       "      <td>NaN</td>\n",
       "      <td>NaN</td>\n",
       "    </tr>\n",
       "    <tr>\n",
       "      <th>8</th>\n",
       "      <td>0.074271</td>\n",
       "      <td>0.063962</td>\n",
       "      <td>0.052352</td>\n",
       "      <td>0.032260</td>\n",
       "      <td>0.028197</td>\n",
       "      <td>NaN</td>\n",
       "      <td>NaN</td>\n",
       "      <td>NaN</td>\n",
       "      <td>NaN</td>\n",
       "      <td>NaN</td>\n",
       "      <td>NaN</td>\n",
       "      <td>NaN</td>\n",
       "    </tr>\n",
       "    <tr>\n",
       "      <th>9</th>\n",
       "      <td>0.071763</td>\n",
       "      <td>0.052987</td>\n",
       "      <td>0.039236</td>\n",
       "      <td>0.031355</td>\n",
       "      <td>NaN</td>\n",
       "      <td>NaN</td>\n",
       "      <td>NaN</td>\n",
       "      <td>NaN</td>\n",
       "      <td>NaN</td>\n",
       "      <td>NaN</td>\n",
       "      <td>NaN</td>\n",
       "      <td>NaN</td>\n",
       "    </tr>\n",
       "    <tr>\n",
       "      <th>10</th>\n",
       "      <td>0.069172</td>\n",
       "      <td>0.039466</td>\n",
       "      <td>0.036013</td>\n",
       "      <td>NaN</td>\n",
       "      <td>NaN</td>\n",
       "      <td>NaN</td>\n",
       "      <td>NaN</td>\n",
       "      <td>NaN</td>\n",
       "      <td>NaN</td>\n",
       "      <td>NaN</td>\n",
       "      <td>NaN</td>\n",
       "      <td>NaN</td>\n",
       "    </tr>\n",
       "    <tr>\n",
       "      <th>11</th>\n",
       "      <td>0.053916</td>\n",
       "      <td>0.039773</td>\n",
       "      <td>NaN</td>\n",
       "      <td>NaN</td>\n",
       "      <td>NaN</td>\n",
       "      <td>NaN</td>\n",
       "      <td>NaN</td>\n",
       "      <td>NaN</td>\n",
       "      <td>NaN</td>\n",
       "      <td>NaN</td>\n",
       "      <td>NaN</td>\n",
       "      <td>NaN</td>\n",
       "    </tr>\n",
       "    <tr>\n",
       "      <th>12</th>\n",
       "      <td>0.057260</td>\n",
       "      <td>NaN</td>\n",
       "      <td>NaN</td>\n",
       "      <td>NaN</td>\n",
       "      <td>NaN</td>\n",
       "      <td>NaN</td>\n",
       "      <td>NaN</td>\n",
       "      <td>NaN</td>\n",
       "      <td>NaN</td>\n",
       "      <td>NaN</td>\n",
       "      <td>NaN</td>\n",
       "      <td>NaN</td>\n",
       "    </tr>\n",
       "  </tbody>\n",
       "</table>\n",
       "</div>"
      ],
      "text/plain": [
       "CohortGroup    2016-06   2016-07   2016-08   2016-09   2016-10   2016-11  \\\n",
       "CohortPeriod                                                               \n",
       "1             1.000000  1.000000  1.000000  1.000000  1.000000  1.000000   \n",
       "2             0.107540  0.074147  0.103630  0.112859  0.103198  0.097458   \n",
       "3             0.070091  0.067826  0.087743  0.086758  0.066847  0.058573   \n",
       "4             0.083633  0.076957  0.080507  0.064903  0.052567  0.048183   \n",
       "5             0.095377  0.077484  0.067673  0.054533  0.047192  0.043478   \n",
       "6             0.093037  0.064972  0.061228  0.051157  0.044436  0.030479   \n",
       "7             0.080624  0.063436  0.055122  0.049173  0.030474  0.028852   \n",
       "8             0.074271  0.063962  0.052352  0.032260  0.028197       NaN   \n",
       "9             0.071763  0.052987  0.039236  0.031355       NaN       NaN   \n",
       "10            0.069172  0.039466  0.036013       NaN       NaN       NaN   \n",
       "11            0.053916  0.039773       NaN       NaN       NaN       NaN   \n",
       "12            0.057260       NaN       NaN       NaN       NaN       NaN   \n",
       "\n",
       "CohortGroup    2016-12   2017-01   2017-02   2017-03  2017-04  2017-05  \n",
       "CohortPeriod                                                            \n",
       "1             1.000000  1.000000  1.000000  1.000000  1.00000      1.0  \n",
       "2             0.075255  0.078049  0.073512  0.057622  0.06087      NaN  \n",
       "3             0.050299  0.051016  0.036011  0.035716      NaN      NaN  \n",
       "4             0.042650  0.031744  0.028174       NaN      NaN      NaN  \n",
       "5             0.027401  0.026605       NaN       NaN      NaN      NaN  \n",
       "6             0.025513       NaN       NaN       NaN      NaN      NaN  \n",
       "7                  NaN       NaN       NaN       NaN      NaN      NaN  \n",
       "8                  NaN       NaN       NaN       NaN      NaN      NaN  \n",
       "9                  NaN       NaN       NaN       NaN      NaN      NaN  \n",
       "10                 NaN       NaN       NaN       NaN      NaN      NaN  \n",
       "11                 NaN       NaN       NaN       NaN      NaN      NaN  \n",
       "12                 NaN       NaN       NaN       NaN      NaN      NaN  "
      ]
     },
     "execution_count": 30,
     "metadata": {},
     "output_type": "execute_result"
    }
   ],
   "source": [
    "user_retention = cohorts_data['TotalUsers'].unstack(level=0).divide(cohort_group_size, axis=1)\n",
    "user_retention"
   ]
  },
  {
   "cell_type": "code",
   "execution_count": 32,
   "metadata": {},
   "outputs": [
    {
     "data": {
      "image/png": "[encoded data removed]",
      "text/plain": [
       "<Figure size 720x360 with 1 Axes>"
      ]
     },
     "metadata": {
      "needs_background": "light"
     },
     "output_type": "display_data"
    }
   ],
   "source": [
    "_ = user_retention.plot(figsize=(10,5))\n",
    "_ = plt.title('Возвращаемость пользователей (User Retention) по когортам')\n",
    "_ = plt.xticks(np.arange(1, 12.1, 1))\n",
    "_ = plt.xlim(1, 12)\n",
    "_ = plt.ylabel('доля покупок в когорте')"
   ]
  },
  {
   "cell_type": "code",
   "execution_count": 33,
   "metadata": {},
   "outputs": [
    {
     "data": {
      "image/png": "[encoded data removed]",
      "text/plain": [
       "<Figure size 1440x576 with 2 Axes>"
      ]
     },
     "metadata": {
      "needs_background": "light"
     },
     "output_type": "display_data"
    }
   ],
   "source": [
    "_ = plt.figure(figsize=(20, 8))\n",
    "ax = sns.heatmap(user_retention.T, mask=user_retention.T.isnull(), annot=True, cmap='Blues', fmt='.2f')\n",
    "_ = ax.set_ylabel('Период', fontsize = 15)\n",
    "_ = ax.set_xlabel('Номер когорты', fontsize = 15)\n",
    "_ = ax.set_title('Возвращаемость пользователей по когортам', fontsize = 20)\n",
    "bottom_border, top_border = ax.get_ylim()\n",
    "_ = ax.set_ylim(bottom_border + 0.5, top_border-0.5)"
   ]
  },
  {
   "cell_type": "markdown",
   "metadata": {},
   "source": [
    "### Выводы по рассчету LTV"
   ]
  },
  {
   "cell_type": "markdown",
   "metadata": {},
   "source": [
    "LTV пользователей по каждой когорте равны значениям представленным ниже."
   ]
  },
  {
   "cell_type": "code",
   "execution_count": 88,
   "metadata": {},
   "outputs": [
    {
     "data": {
      "text/plain": [
       "CohortGroup\n",
       "2016-06    127.655839\n",
       "2016-07      4.985023\n",
       "2016-08     11.238439\n",
       "2016-09     13.402118\n",
       "2016-10      2.177439\n",
       "2016-11      3.110490\n",
       "2016-12      3.087908\n",
       "2017-01      2.777771\n",
       "2017-02      1.453825\n",
       "2017-03      4.921313\n",
       "2017-04      3.598028\n",
       "2017-05      1.040860\n",
       "Name: 12, dtype: float64"
      ]
     },
     "execution_count": 88,
     "metadata": {},
     "output_type": "execute_result"
    }
   ],
   "source": [
    "summary_margin_cohort_group"
   ]
  },
  {
   "cell_type": "markdown",
   "metadata": {},
   "source": [
    "Из полученных данных видно, что наибольшее значение LTV в когорте пользователей, которые начали пользоваться сервисом в июне 2016 года, но уже в когорте июльских пользователей мы видим значительное снижение параметра LTV, что свидетельствует об оттоке пользователей из сервиса."
   ]
  },
  {
   "cell_type": "markdown",
   "metadata": {},
   "source": [
    "На основании графика суммарной прибыли по когортам можно сделать вывод о том, что ключевой когортой пользователей, приносящей прибыль является июньская когорта. Также немаловажный вклад вносит сентябрьская когорта пользователей. В июньской и сентбрьской когортах отмечается значительный рост прибыли от пользователей на 3 месяце использования сервиса."
   ]
  },
  {
   "cell_type": "markdown",
   "metadata": {},
   "source": [
    "Что касается суммарной прибыли, полученной от каждой из когорт, то видно, что значительная часть прибыли получена от пользователей когорты июня 2016 года (68% от полученной прибыли за рассматриваемый период на сумму 3217438 у.е)."
   ]
  },
  {
   "cell_type": "code",
   "execution_count": 34,
   "metadata": {},
   "outputs": [
    {
     "data": {
      "text/plain": [
       "CohortGroup\n",
       "2016-06    0.682425\n",
       "2016-07    0.024085\n",
       "2016-08    0.042163\n",
       "2016-09    0.081683\n",
       "2016-10    0.020278\n",
       "2016-11    0.029589\n",
       "2016-12    0.027058\n",
       "2017-01    0.022012\n",
       "2017-02    0.011175\n",
       "2017-03    0.034690\n",
       "2017-04    0.019395\n",
       "2017-05    0.005447\n",
       "dtype: float64"
      ]
     },
     "execution_count": 34,
     "metadata": {},
     "output_type": "execute_result"
    },
    {
     "data": {
      "text/plain": [
       "CohortGroup\n",
       "2016-06    3217438.04\n",
       "2016-07     113553.83\n",
       "2016-08     198785.51\n",
       "2016-09     385109.87\n",
       "2016-10      95602.65\n",
       "2016-11     139505.46\n",
       "2016-12     127570.75\n",
       "2017-01     103780.29\n",
       "2017-02      52685.17\n",
       "2017-03     163554.90\n",
       "2017-04      91443.89\n",
       "2017-05      25683.21\n",
       "dtype: float64"
      ]
     },
     "execution_count": 34,
     "metadata": {},
     "output_type": "execute_result"
    }
   ],
   "source": [
    "cohort_contrib_margin.divide(cohort_contrib_margin.sum())\n",
    "cohort_contrib_margin"
   ]
  },
  {
   "cell_type": "markdown",
   "metadata": {},
   "source": [
    "Размеры каждой из когорт пропорциональны друг другу, но анализ retention rate (частота возвращаемости пользователей), показывает, что в конечном итоге использовать сервис продолжает от 3 до 6% пользователей когорты (наибольшее значение в июньской когорте-6%). "
   ]
  },
  {
   "cell_type": "code",
   "execution_count": 35,
   "metadata": {},
   "outputs": [
    {
     "data": {
      "text/plain": [
       "CohortGroup\n",
       "2016-06    23926\n",
       "2016-07    22779\n",
       "2016-08    17688\n",
       "2016-09    28735\n",
       "2016-10    43906\n",
       "2016-11    44850\n",
       "2016-12    41313\n",
       "2017-01    37361\n",
       "2017-02    36239\n",
       "2017-03    33234\n",
       "2017-04    25415\n",
       "2017-05    24675\n",
       "Name: TotalUsers, dtype: int64"
      ]
     },
     "execution_count": 35,
     "metadata": {},
     "output_type": "execute_result"
    },
    {
     "data": {
      "text/plain": [
       "CohortGroup\n",
       "2016-06    0.062943\n",
       "2016-07    0.059926\n",
       "2016-08    0.046533\n",
       "2016-09    0.075594\n",
       "2016-10    0.115505\n",
       "2016-11    0.117989\n",
       "2016-12    0.108684\n",
       "2017-01    0.098287\n",
       "2017-02    0.095335\n",
       "2017-03    0.087430\n",
       "2017-04    0.066860\n",
       "2017-05    0.064914\n",
       "Name: TotalUsers, dtype: float64"
      ]
     },
     "execution_count": 35,
     "metadata": {},
     "output_type": "execute_result"
    }
   ],
   "source": [
    "cohort_group_size = cohorts_data['TotalUsers'].groupby(level=0).first()\n",
    "cohort_group_size\n",
    "cohort_group_size.divide(cohort_group_size.sum())"
   ]
  },
  {
   "cell_type": "markdown",
   "metadata": {},
   "source": [
    "На графике динамики LTV каждой из когорт по месяцам также виден значительный рост метрики LTV для когорты пользователей июня 2016 года. Для всех остальных когорт, за исключением когорт августа и сентября 2016 года не отмечается рост метрики LTV."
   ]
  },
  {
   "cell_type": "code",
   "execution_count": 36,
   "metadata": {},
   "outputs": [
    {
     "data": {
      "image/png": "[encoded data removed]",
      "text/plain": [
       "<Figure size 720x360 with 1 Axes>"
      ]
     },
     "metadata": {
      "needs_background": "light"
     },
     "output_type": "display_data"
    }
   ],
   "source": [
    "_ = ltv_cohorts_value.plot(figsize=(10,5))\n",
    "_ = plt.title('Cohorts: LTV')\n",
    "_ = plt.xticks(np.arange(1, 12.1, 1))\n",
    "_ = plt.xlim(1, 12)\n",
    "_ = plt.ylabel('LTV value')"
   ]
  }
 ],
 "metadata": {
  "kernelspec": {
   "display_name": "Python 3",
   "language": "python",
   "name": "python3"
  },
  "language_info": {
   "codemirror_mode": {
    "name": "ipython",
    "version": 3
   },
   "file_extension": ".py",
   "mimetype": "text/x-python",
   "name": "python",
   "nbconvert_exporter": "python",
   "pygments_lexer": "ipython3",
   "version": "3.7.6"
  },
  "latex_envs": {
   "LaTeX_envs_menu_present": true,
   "autoclose": false,
   "autocomplete": true,
   "bibliofile": "biblio.bib",
   "cite_by": "apalike",
   "current_citInitial": 1,
   "eqLabelWithNumbers": true,
   "eqNumInitial": 1,
   "hotkeys": {
    "equation": "Ctrl-E",
    "itemize": "Ctrl-I"
   },
   "labels_anchors": false,
   "latex_user_defs": false,
   "report_style_numbering": false,
   "user_envs_cfg": false
  }
 },
 "nbformat": 4,
 "nbformat_minor": 1
}
